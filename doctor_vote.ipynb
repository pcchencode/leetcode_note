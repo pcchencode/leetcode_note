{
 "cells": [
  {
   "cell_type": "code",
   "execution_count": 26,
   "metadata": {},
   "outputs": [],
   "source": [
    "import sys, os\n",
    "import pandas as pd\n",
    "import random,time\n",
    "from selenium import webdriver  # 從library中引入webdriver\n",
    "# from selenium.webdriver.common.by import By\n",
    "# from fake_useragent import UserAgent # !pip install fake-useragent\n",
    "from selenium.webdriver.chrome.options import Options\n",
    "import urllib\n",
    "# import argparse\n",
    "# pd.set_option('display.max_rows', 250)"
   ]
  },
  {
   "cell_type": "code",
   "execution_count": 27,
   "metadata": {},
   "outputs": [],
   "source": [
    "browser = webdriver.Chrome('./chromedriver')\n",
    "browser.get('https://health.businessweekly.com.tw/event/2020/pediatrics/search.html?keywords=張虔熙&zipcode=0&page=1')\n",
    "time.sleep(random.randint(5,10))\n",
    "\n",
    "vote_button = browser.find_element_by_xpath(\"//*[@id='search']/section[3]/div[1]/div[1]/div[2]/a/picture/img\")\n",
    "vote_button.click()"
   ]
  },
  {
   "cell_type": "code",
   "execution_count": 28,
   "metadata": {},
   "outputs": [
    {
     "data": {
      "text/plain": [
       "[<selenium.webdriver.remote.webelement.WebElement (session=\"09a175b4bc2f8824a7b1d3f8901e7897\", element=\"d542558e-f53d-4158-9b0e-5efc78ec92d4\")>,\n",
       " <selenium.webdriver.remote.webelement.WebElement (session=\"09a175b4bc2f8824a7b1d3f8901e7897\", element=\"efd889da-a170-42bc-a1b6-986e1b70d688\")>,\n",
       " <selenium.webdriver.remote.webelement.WebElement (session=\"09a175b4bc2f8824a7b1d3f8901e7897\", element=\"7d890cd2-0cec-43e4-b8ca-c3290a76f3cc\")>,\n",
       " <selenium.webdriver.remote.webelement.WebElement (session=\"09a175b4bc2f8824a7b1d3f8901e7897\", element=\"736e08fb-1cc6-4162-a86a-b83eadb5d9f3\")>]"
      ]
     },
     "execution_count": 28,
     "metadata": {},
     "output_type": "execute_result"
    }
   ],
   "source": [
    "check_box_pro = browser.find_element_by_xpath('//*[@id=\"doctor-141d027a-a272-4361-b095-fa8b47c6b3cd\"]/div[2]/div[1]/label')\n",
    "check_box_nice = browser.find_element_by_xpath('//*[@id=\"doctor-141d027a-a272-4361-b095-fa8b47c6b3cd\"]/div[2]/div[2]/label')\n",
    "check_box_detail = browser.find_element_by_xpath('//*[@id=\"doctor-141d027a-a272-4361-b095-fa8b47c6b3cd\"]/div[2]/div[3]/label')\n",
    "check_box_med = browser.find_element_by_xpath('//*[@id=\"doctor-141d027a-a272-4361-b095-fa8b47c6b3cd\"]/div[2]/div[4]/label')\n",
    "\n",
    "checkbox_list = [check_box_pro, check_box_nice, check_box_detail, check_box_med]\n",
    "\n",
    "checkbox_list"
   ]
  },
  {
   "cell_type": "code",
   "execution_count": 30,
   "metadata": {},
   "outputs": [
    {
     "data": {
      "text/plain": [
       "[333, 444]"
      ]
     },
     "execution_count": 30,
     "metadata": {},
     "output_type": "execute_result"
    }
   ],
   "source": [
    "pick = random.randint(1,4)\n",
    "chosen_checkbox = random.choices(numberList, k=pick)\n",
    "\n",
    "for val in chosen_checkbox:\n",
    "    val.click()\n",
    "\n",
    "\n",
    "numberList = [111,222,333,444,555]\n",
    "random.choices(numberList, k=2)\n",
    "\n",
    "\n",
    "\n"
   ]
  },
  {
   "cell_type": "code",
   "execution_count": 38,
   "metadata": {},
   "outputs": [],
   "source": [
    "def loop_voting(n):\n",
    "    done_num = 0\n",
    "    remained = n\n",
    "    try:\n",
    "        while remained > 0:\n",
    "            print('step remained '+str(remained))\n",
    "            time.sleep(random.randint(1,2))\n",
    "\n",
    "            browser = webdriver.Chrome('./chromedriver')\n",
    "            browser.get('https://health.businessweekly.com.tw/event/2020/pediatrics/search.html?keywords=張虔熙&zipcode=0&page=1')\n",
    "            time.sleep(random.randint(5,10))\n",
    "\n",
    "            vote_button = browser.find_element_by_xpath(\"//*[@id='search']/section[3]/div[1]/div[1]/div[2]/a/picture/img\")\n",
    "            vote_button.click()\n",
    "            time.sleep(random.randint(5,10))\n",
    "            \n",
    "            check_box_pro = browser.find_element_by_xpath('//*[@id=\"doctor-141d027a-a272-4361-b095-fa8b47c6b3cd\"]/div[2]/div[1]/label')\n",
    "            check_box_nice = browser.find_element_by_xpath('//*[@id=\"doctor-141d027a-a272-4361-b095-fa8b47c6b3cd\"]/div[2]/div[2]/label')\n",
    "            check_box_detail = browser.find_element_by_xpath('//*[@id=\"doctor-141d027a-a272-4361-b095-fa8b47c6b3cd\"]/div[2]/div[3]/label')\n",
    "            check_box_med = browser.find_element_by_xpath('//*[@id=\"doctor-141d027a-a272-4361-b095-fa8b47c6b3cd\"]/div[2]/div[4]/label')\n",
    "            \n",
    "            checkbox_list = [check_box_pro, check_box_nice, check_box_detail, check_box_med]\n",
    "\n",
    "            pick = random.randint(1,4)\n",
    "            chosen_checkbox = random.choices(checkbox_list, k=pick)\n",
    "\n",
    "            for val in chosen_checkbox:\n",
    "                val.click()\n",
    "            \n",
    "#             check_box_pro = browser.find_element_by_xpath('//*[@id=\"doctor-141d027a-a272-4361-b095-fa8b47c6b3cd\"]/div[2]/div[1]/label')\n",
    "#             check_box_pro.click()\n",
    "\n",
    "#             check_box_nice = browser.find_element_by_xpath('//*[@id=\"doctor-141d027a-a272-4361-b095-fa8b47c6b3cd\"]/div[2]/div[2]/label')\n",
    "#             check_box_nice.click()\n",
    "\n",
    "#             check_box_detail = browser.find_element_by_xpath('//*[@id=\"doctor-141d027a-a272-4361-b095-fa8b47c6b3cd\"]/div[2]/div[3]/label')\n",
    "#             check_box_detail.click()\n",
    "\n",
    "#             check_box_med = browser.find_element_by_xpath('//*[@id=\"doctor-141d027a-a272-4361-b095-fa8b47c6b3cd\"]/div[2]/div[4]/label')\n",
    "#             check_box_med.click()\n",
    "\n",
    "            submit_button = browser.find_element_by_xpath('//*[@id=\"doctor-141d027a-a272-4361-b095-fa8b47c6b3cd\"]/div[3]/a[1]')\n",
    "            submit_button.click()\n",
    "\n",
    "            browser.close()\n",
    "\n",
    "            time.sleep(random.randint(1,5))\n",
    "            remained = remained-1\n",
    "            done_num = done_num+1\n",
    "    except:\n",
    "        browser.close()\n",
    "        print('stop at step ' + str(done_num))\n",
    "        print('restart')\n",
    "        return loop_voting(remained)"
   ]
  },
  {
   "cell_type": "code",
   "execution_count": 39,
   "metadata": {},
   "outputs": [
    {
     "name": "stdout",
     "output_type": "stream",
     "text": [
      "step remained 3\n",
      "step remained 2\n",
      "stop at step 1\n",
      "restart\n",
      "step remained 2\n",
      "step remained 1\n",
      "stop at step 1\n",
      "restart\n",
      "step remained 1\n",
      "stop at step 0\n",
      "restart\n",
      "step remained 1\n",
      "stop at step 0\n",
      "restart\n",
      "step remained 1\n"
     ]
    }
   ],
   "source": [
    "loop_voting(n=3)"
   ]
  },
  {
   "cell_type": "code",
   "execution_count": null,
   "metadata": {},
   "outputs": [],
   "source": [
    "\n",
    "browser = webdriver.Chrome('./chromedriver')\n",
    "browser.get('https://health.businessweekly.com.tw/event/2020/pediatrics/search.html?keywords=張虔熙&zipcode=0&page=1')\n",
    "\n",
    "vote_button = browser.find_element_by_xpath(\"//*[@id='search']/section[3]/div[1]/div[1]/div[2]/a/picture/img\")\n",
    "                                            //*[@id=\"search\"]/section[3]/div[1]/div[1]/div[2]/a/picture/img"
   ]
  },
  {
   "cell_type": "code",
   "execution_count": 48,
   "metadata": {},
   "outputs": [],
   "source": []
  },
  {
   "cell_type": "code",
   "execution_count": 51,
   "metadata": {},
   "outputs": [],
   "source": []
  },
  {
   "cell_type": "code",
   "execution_count": 52,
   "metadata": {},
   "outputs": [],
   "source": []
  },
  {
   "cell_type": "code",
   "execution_count": 53,
   "metadata": {},
   "outputs": [],
   "source": []
  },
  {
   "cell_type": "code",
   "execution_count": 54,
   "metadata": {},
   "outputs": [],
   "source": []
  },
  {
   "cell_type": "code",
   "execution_count": 55,
   "metadata": {},
   "outputs": [],
   "source": []
  },
  {
   "cell_type": "code",
   "execution_count": null,
   "metadata": {},
   "outputs": [],
   "source": []
  }
 ],
 "metadata": {
  "kernelspec": {
   "display_name": "Python 3",
   "language": "python",
   "name": "python3"
  },
  "language_info": {
   "codemirror_mode": {
    "name": "ipython",
    "version": 3
   },
   "file_extension": ".py",
   "mimetype": "text/x-python",
   "name": "python",
   "nbconvert_exporter": "python",
   "pygments_lexer": "ipython3",
   "version": "3.7.6"
  }
 },
 "nbformat": 4,
 "nbformat_minor": 4
}
