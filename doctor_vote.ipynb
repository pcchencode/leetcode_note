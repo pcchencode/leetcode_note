{
 "cells": [
  {
   "cell_type": "code",
   "execution_count": 26,
   "metadata": {},
   "outputs": [],
   "source": [
    "import sys, os\n",
    "import pandas as pd\n",
    "import random,time\n",
    "from selenium import webdriver  # 從library中引入webdriver\n",
    "# from selenium.webdriver.common.by import By\n",
    "from fake_useragent import UserAgent # !pip install fake-useragent\n",
    "from selenium.webdriver.chrome.options import Options\n",
    "import urllib\n",
    "# import argparse\n",
    "# pd.set_option('display.max_rows', 250)"
   ]
  },
  {
   "cell_type": "code",
   "execution_count": 30,
   "metadata": {},
   "outputs": [],
   "source": [
    "browser = webdriver.Chrome('./chromedriver')\n",
    "browser.get('https://health.businessweekly.com.tw/event/2020/pediatrics/search.html?keywords=張虔熙&zipcode=0&page=1')\n",
    "agree_button = browser.find_element_by_xpath('//*[@id=\"gdrp\"]')\n",
    "agree_button.click() \n",
    "time.sleep(random.randint(5,10))\n",
    "\n",
    "vote_button = browser.find_element_by_xpath(\"//*[@id='search']/section[3]/div[1]/div[1]/div[2]/a/picture/img\")\n",
    "vote_button.click()"
   ]
  },
  {
   "cell_type": "code",
   "execution_count": 28,
   "metadata": {},
   "outputs": [
    {
     "data": {
      "text/plain": [
       "[<selenium.webdriver.remote.webelement.WebElement (session=\"09a175b4bc2f8824a7b1d3f8901e7897\", element=\"d542558e-f53d-4158-9b0e-5efc78ec92d4\")>,\n",
       " <selenium.webdriver.remote.webelement.WebElement (session=\"09a175b4bc2f8824a7b1d3f8901e7897\", element=\"efd889da-a170-42bc-a1b6-986e1b70d688\")>,\n",
       " <selenium.webdriver.remote.webelement.WebElement (session=\"09a175b4bc2f8824a7b1d3f8901e7897\", element=\"7d890cd2-0cec-43e4-b8ca-c3290a76f3cc\")>,\n",
       " <selenium.webdriver.remote.webelement.WebElement (session=\"09a175b4bc2f8824a7b1d3f8901e7897\", element=\"736e08fb-1cc6-4162-a86a-b83eadb5d9f3\")>]"
      ]
     },
     "execution_count": 28,
     "metadata": {},
     "output_type": "execute_result"
    }
   ],
   "source": [
    "check_box_pro = browser.find_element_by_xpath('//*[@id=\"doctor-141d027a-a272-4361-b095-fa8b47c6b3cd\"]/div[2]/div[1]/label')\n",
    "check_box_nice = browser.find_element_by_xpath('//*[@id=\"doctor-141d027a-a272-4361-b095-fa8b47c6b3cd\"]/div[2]/div[2]/label')\n",
    "check_box_detail = browser.find_element_by_xpath('//*[@id=\"doctor-141d027a-a272-4361-b095-fa8b47c6b3cd\"]/div[2]/div[3]/label')\n",
    "check_box_med = browser.find_element_by_xpath('//*[@id=\"doctor-141d027a-a272-4361-b095-fa8b47c6b3cd\"]/div[2]/div[4]/label')\n",
    "\n",
    "checkbox_list = [check_box_pro, check_box_nice, check_box_detail, check_box_med]\n",
    "\n",
    "checkbox_list"
   ]
  },
  {
   "cell_type": "code",
   "execution_count": 30,
   "metadata": {},
   "outputs": [
    {
     "data": {
      "text/plain": [
       "[333, 444]"
      ]
     },
     "execution_count": 30,
     "metadata": {},
     "output_type": "execute_result"
    }
   ],
   "source": [
    "pick = random.randint(1,4)\n",
    "chosen_checkbox = random.choices(numberList, k=pick)\n",
    "\n",
    "for val in chosen_checkbox:\n",
    "    val.click()\n",
    "\n",
    "\n",
    "numberList = [111,222,333,444,555]\n",
    "random.choices(numberList, k=2)\n",
    "\n",
    "\n",
    "\n"
   ]
  },
  {
   "cell_type": "code",
   "execution_count": 43,
   "metadata": {},
   "outputs": [
    {
     "name": "stderr",
     "output_type": "stream",
     "text": [
      "Error occurred during loading data. Trying to use cache server https://fake-useragent.herokuapp.com/browsers/0.1.11\n",
      "Traceback (most recent call last):\n",
      "  File \"/Users/GJGG/opt/anaconda3/lib/python3.7/urllib/request.py\", line 1319, in do_open\n",
      "    encode_chunked=req.has_header('Transfer-encoding'))\n",
      "  File \"/Users/GJGG/opt/anaconda3/lib/python3.7/http/client.py\", line 1252, in request\n",
      "    self._send_request(method, url, body, headers, encode_chunked)\n",
      "  File \"/Users/GJGG/opt/anaconda3/lib/python3.7/http/client.py\", line 1298, in _send_request\n",
      "    self.endheaders(body, encode_chunked=encode_chunked)\n",
      "  File \"/Users/GJGG/opt/anaconda3/lib/python3.7/http/client.py\", line 1247, in endheaders\n",
      "    self._send_output(message_body, encode_chunked=encode_chunked)\n",
      "  File \"/Users/GJGG/opt/anaconda3/lib/python3.7/http/client.py\", line 1026, in _send_output\n",
      "    self.send(msg)\n",
      "  File \"/Users/GJGG/opt/anaconda3/lib/python3.7/http/client.py\", line 966, in send\n",
      "    self.connect()\n",
      "  File \"/Users/GJGG/opt/anaconda3/lib/python3.7/http/client.py\", line 938, in connect\n",
      "    (self.host,self.port), self.timeout, self.source_address)\n",
      "  File \"/Users/GJGG/opt/anaconda3/lib/python3.7/socket.py\", line 728, in create_connection\n",
      "    raise err\n",
      "  File \"/Users/GJGG/opt/anaconda3/lib/python3.7/socket.py\", line 716, in create_connection\n",
      "    sock.connect(sa)\n",
      "socket.timeout: timed out\n",
      "\n",
      "During handling of the above exception, another exception occurred:\n",
      "\n",
      "Traceback (most recent call last):\n",
      "  File \"/Users/GJGG/.local/lib/python3.7/site-packages/fake_useragent/utils.py\", line 67, in get\n",
      "    context=context,\n",
      "  File \"/Users/GJGG/opt/anaconda3/lib/python3.7/urllib/request.py\", line 222, in urlopen\n",
      "    return opener.open(url, data, timeout)\n",
      "  File \"/Users/GJGG/opt/anaconda3/lib/python3.7/urllib/request.py\", line 525, in open\n",
      "    response = self._open(req, data)\n",
      "  File \"/Users/GJGG/opt/anaconda3/lib/python3.7/urllib/request.py\", line 543, in _open\n",
      "    '_open', req)\n",
      "  File \"/Users/GJGG/opt/anaconda3/lib/python3.7/urllib/request.py\", line 503, in _call_chain\n",
      "    result = func(*args)\n",
      "  File \"/Users/GJGG/opt/anaconda3/lib/python3.7/urllib/request.py\", line 1347, in http_open\n",
      "    return self.do_open(http.client.HTTPConnection, req)\n",
      "  File \"/Users/GJGG/opt/anaconda3/lib/python3.7/urllib/request.py\", line 1321, in do_open\n",
      "    raise URLError(err)\n",
      "urllib.error.URLError: <urlopen error timed out>\n",
      "\n",
      "During handling of the above exception, another exception occurred:\n",
      "\n",
      "Traceback (most recent call last):\n",
      "  File \"/Users/GJGG/.local/lib/python3.7/site-packages/fake_useragent/utils.py\", line 166, in load\n",
      "    verify_ssl=verify_ssl,\n",
      "  File \"/Users/GJGG/.local/lib/python3.7/site-packages/fake_useragent/utils.py\", line 122, in get_browser_versions\n",
      "    verify_ssl=verify_ssl,\n",
      "  File \"/Users/GJGG/.local/lib/python3.7/site-packages/fake_useragent/utils.py\", line 84, in get\n",
      "    raise FakeUserAgentError('Maximum amount of retries reached')\n",
      "fake_useragent.errors.FakeUserAgentError: Maximum amount of retries reached\n"
     ]
    },
    {
     "name": "stdout",
     "output_type": "stream",
     "text": [
      "Mozilla/5.0 (Windows NT 6.3; WOW64) AppleWebKit/537.36 (KHTML, like Gecko) Chrome/41.0.2225.0 Safari/537.36\n"
     ]
    }
   ],
   "source": [
    "ua = UserAgent()\n",
    "user_agent = ua.random\n",
    "print(user_agent)\n",
    "\n",
    "options.add_argument(f'user-agent={user_agent}')"
   ]
  },
  {
   "cell_type": "code",
   "execution_count": 31,
   "metadata": {},
   "outputs": [],
   "source": [
    "def loop_voting(n):\n",
    "    done_num = 0\n",
    "    remained = n\n",
    "    try:\n",
    "        while remained > 0:\n",
    "            print('step remained '+str(remained))\n",
    "            time.sleep(random.randint(1,2))\n",
    "            \n",
    "#             ua = UserAgent()\n",
    "#             user_agent = ua.random\n",
    "#             options = Options()\n",
    "#             options.add_argument(\"window-size=800,800\")\n",
    "#             options.add_argument(f'user-agent={user_agent}')\n",
    "#             print(user_agent)\n",
    "\n",
    "#             browser = webdriver.Chrome('./chromedriver', chrome_options=options)\n",
    "            browser = webdriver.Chrome('./chromedriver')\n",
    "            scroll_down=\"var q=document.documentElement.scrollTop=100\"  \n",
    "            browser.execute_script(scroll_down)  \n",
    "            time.sleep(1)\n",
    "            \n",
    "            browser.get('https://health.businessweekly.com.tw/event/2020/pediatrics/search.html?keywords=張虔熙')\n",
    "            time.sleep(random.randint(8,10))\n",
    "\n",
    "            vote_button = browser.find_element_by_xpath(\"//*[@id='search']/section[3]/div[1]/div[1]/div[2]/a/picture/img\")\n",
    "            vote_button.click()\n",
    "            time.sleep(random.randint(8,10))\n",
    "\n",
    "            check_box_pro = browser.find_element_by_xpath('//*[@id=\"doctor-141d027a-a272-4361-b095-fa8b47c6b3cd\"]/div[2]/div[1]/label')\n",
    "            check_box_nice = browser.find_element_by_xpath('//*[@id=\"doctor-141d027a-a272-4361-b095-fa8b47c6b3cd\"]/div[2]/div[2]/label')\n",
    "            check_box_detail = browser.find_element_by_xpath('//*[@id=\"doctor-141d027a-a272-4361-b095-fa8b47c6b3cd\"]/div[2]/div[3]/label')\n",
    "            check_box_med = browser.find_element_by_xpath('//*[@id=\"doctor-141d027a-a272-4361-b095-fa8b47c6b3cd\"]/div[2]/div[4]/label')\n",
    "\n",
    "            checkbox_list = [check_box_pro, check_box_nice, check_box_detail, check_box_med]\n",
    "\n",
    "            pick = random.randint(1,4)\n",
    "            chosen_checkbox = random.choices(checkbox_list, k=pick)\n",
    "\n",
    "            for val in chosen_checkbox:\n",
    "                val.click()\n",
    "\n",
    "            time.sleep(5)\n",
    "            submit_button = browser.find_element_by_xpath('//*[@id=\"doctor-141d027a-a272-4361-b095-fa8b47c6b3cd\"]/div[3]/a[1]')\n",
    "            submit_button.click()\n",
    "            browser.close()\n",
    "\n",
    "\n",
    "            time.sleep(random.randint(1,5))\n",
    "            remained = remained-1\n",
    "            done_num = done_num+1\n",
    "    except:\n",
    "        browser.close()\n",
    "        print('stop at step ' + str(done_num))\n",
    "        print('restart')\n",
    "        return loop_voting(remained)"
   ]
  },
  {
   "cell_type": "code",
   "execution_count": 32,
   "metadata": {},
   "outputs": [
    {
     "name": "stdout",
     "output_type": "stream",
     "text": [
      "step remained 500\n"
     ]
    },
    {
     "ename": "UnboundLocalError",
     "evalue": "local variable 'browser' referenced before assignment",
     "output_type": "error",
     "traceback": [
      "\u001b[0;31m---------------------------------------------------------------------------\u001b[0m",
      "\u001b[0;31mKeyboardInterrupt\u001b[0m                         Traceback (most recent call last)",
      "\u001b[0;32m<ipython-input-31-8ea3b85ef3b2>\u001b[0m in \u001b[0;36mloop_voting\u001b[0;34m(n)\u001b[0m\n\u001b[1;32m     16\u001b[0m \u001b[0;31m#             browser = webdriver.Chrome('./chromedriver', chrome_options=options)\u001b[0m\u001b[0;34m\u001b[0m\u001b[0;34m\u001b[0m\u001b[0;34m\u001b[0m\u001b[0m\n\u001b[0;32m---> 17\u001b[0;31m             \u001b[0mbrowser\u001b[0m \u001b[0;34m=\u001b[0m \u001b[0mwebdriver\u001b[0m\u001b[0;34m.\u001b[0m\u001b[0mChrome\u001b[0m\u001b[0;34m(\u001b[0m\u001b[0;34m'./chromedriver'\u001b[0m\u001b[0;34m)\u001b[0m\u001b[0;34m\u001b[0m\u001b[0;34m\u001b[0m\u001b[0m\n\u001b[0m\u001b[1;32m     18\u001b[0m             \u001b[0mscroll_down\u001b[0m\u001b[0;34m=\u001b[0m\u001b[0;34m\"var q=document.documentElement.scrollTop=100\"\u001b[0m\u001b[0;34m\u001b[0m\u001b[0;34m\u001b[0m\u001b[0m\n",
      "\u001b[0;32m~/opt/anaconda3/lib/python3.7/site-packages/selenium/webdriver/chrome/webdriver.py\u001b[0m in \u001b[0;36m__init__\u001b[0;34m(self, executable_path, port, options, service_args, desired_capabilities, service_log_path, chrome_options, keep_alive)\u001b[0m\n\u001b[1;32m     72\u001b[0m             log_path=service_log_path)\n\u001b[0;32m---> 73\u001b[0;31m         \u001b[0mself\u001b[0m\u001b[0;34m.\u001b[0m\u001b[0mservice\u001b[0m\u001b[0;34m.\u001b[0m\u001b[0mstart\u001b[0m\u001b[0;34m(\u001b[0m\u001b[0;34m)\u001b[0m\u001b[0;34m\u001b[0m\u001b[0;34m\u001b[0m\u001b[0m\n\u001b[0m\u001b[1;32m     74\u001b[0m \u001b[0;34m\u001b[0m\u001b[0m\n",
      "\u001b[0;32m~/opt/anaconda3/lib/python3.7/site-packages/selenium/webdriver/common/service.py\u001b[0m in \u001b[0;36mstart\u001b[0;34m(self)\u001b[0m\n\u001b[1;32m    101\u001b[0m             \u001b[0mcount\u001b[0m \u001b[0;34m+=\u001b[0m \u001b[0;36m1\u001b[0m\u001b[0;34m\u001b[0m\u001b[0;34m\u001b[0m\u001b[0m\n\u001b[0;32m--> 102\u001b[0;31m             \u001b[0mtime\u001b[0m\u001b[0;34m.\u001b[0m\u001b[0msleep\u001b[0m\u001b[0;34m(\u001b[0m\u001b[0;36m1\u001b[0m\u001b[0;34m)\u001b[0m\u001b[0;34m\u001b[0m\u001b[0;34m\u001b[0m\u001b[0m\n\u001b[0m\u001b[1;32m    103\u001b[0m             \u001b[0;32mif\u001b[0m \u001b[0mcount\u001b[0m \u001b[0;34m==\u001b[0m \u001b[0;36m30\u001b[0m\u001b[0;34m:\u001b[0m\u001b[0;34m\u001b[0m\u001b[0;34m\u001b[0m\u001b[0m\n",
      "\u001b[0;31mKeyboardInterrupt\u001b[0m: ",
      "\nDuring handling of the above exception, another exception occurred:\n",
      "\u001b[0;31mUnboundLocalError\u001b[0m                         Traceback (most recent call last)",
      "\u001b[0;32m<ipython-input-32-7ae6441040e6>\u001b[0m in \u001b[0;36m<module>\u001b[0;34m\u001b[0m\n\u001b[0;32m----> 1\u001b[0;31m \u001b[0mloop_voting\u001b[0m\u001b[0;34m(\u001b[0m\u001b[0mn\u001b[0m\u001b[0;34m=\u001b[0m\u001b[0;36m500\u001b[0m\u001b[0;34m)\u001b[0m\u001b[0;34m\u001b[0m\u001b[0;34m\u001b[0m\u001b[0m\n\u001b[0m",
      "\u001b[0;32m<ipython-input-31-8ea3b85ef3b2>\u001b[0m in \u001b[0;36mloop_voting\u001b[0;34m(n)\u001b[0m\n\u001b[1;32m     50\u001b[0m             \u001b[0mdone_num\u001b[0m \u001b[0;34m=\u001b[0m \u001b[0mdone_num\u001b[0m\u001b[0;34m+\u001b[0m\u001b[0;36m1\u001b[0m\u001b[0;34m\u001b[0m\u001b[0;34m\u001b[0m\u001b[0m\n\u001b[1;32m     51\u001b[0m     \u001b[0;32mexcept\u001b[0m\u001b[0;34m:\u001b[0m\u001b[0;34m\u001b[0m\u001b[0;34m\u001b[0m\u001b[0m\n\u001b[0;32m---> 52\u001b[0;31m         \u001b[0mbrowser\u001b[0m\u001b[0;34m.\u001b[0m\u001b[0mclose\u001b[0m\u001b[0;34m(\u001b[0m\u001b[0;34m)\u001b[0m\u001b[0;34m\u001b[0m\u001b[0;34m\u001b[0m\u001b[0m\n\u001b[0m\u001b[1;32m     53\u001b[0m         \u001b[0mprint\u001b[0m\u001b[0;34m(\u001b[0m\u001b[0;34m'stop at step '\u001b[0m \u001b[0;34m+\u001b[0m \u001b[0mstr\u001b[0m\u001b[0;34m(\u001b[0m\u001b[0mdone_num\u001b[0m\u001b[0;34m)\u001b[0m\u001b[0;34m)\u001b[0m\u001b[0;34m\u001b[0m\u001b[0;34m\u001b[0m\u001b[0m\n\u001b[1;32m     54\u001b[0m         \u001b[0mprint\u001b[0m\u001b[0;34m(\u001b[0m\u001b[0;34m'restart'\u001b[0m\u001b[0;34m)\u001b[0m\u001b[0;34m\u001b[0m\u001b[0;34m\u001b[0m\u001b[0m\n",
      "\u001b[0;31mUnboundLocalError\u001b[0m: local variable 'browser' referenced before assignment"
     ]
    }
   ],
   "source": [
    "loop_voting(n=500)"
   ]
  },
  {
   "cell_type": "code",
   "execution_count": 33,
   "metadata": {},
   "outputs": [],
   "source": [
    "def vote():\n",
    "    browser = webdriver.Chrome('./chromedriver')\n",
    "    \n",
    "    browser.get('https://health.businessweekly.com.tw/event/2020/pediatrics/search.html?keywords=張虔熙')\n",
    "    agree_button = browser.find_element_by_xpath('//*[@id=\"gdrp\"]')\n",
    "    agree_button.click() \n",
    "    #scroll_down=\"var q=document.documentElement.scrollTop=1000\"  \n",
    "    #browser.execute_script(scroll_down)  \n",
    "    time.sleep(1)\n",
    "    \n",
    "    time.sleep(random.randint(1,2))\n",
    "    try:\n",
    "        vote_button = browser.find_element_by_xpath('//*[@id=\"search\"]/section[3]/div[1]/div[1]/div[2]/a/picture/img')\n",
    "        time.sleep(random.randint(3,5))\n",
    "        vote_button.click()\n",
    "        #time.sleep(random.randint(1,3))\n",
    "#         //*[@id=\"doctor-141d027a-a272-4361-b095-fa8b47c6b3cd\"]/div[2]/div[1]/label\n",
    "#         //*[@id=\"doctor-141d027a-a272-4361-b095-fa8b47c6b3cd\"]/div[2]/div[2]/label\n",
    "        time.sleep(random.randint(3,5))\n",
    "        check_box_pro = browser.find_element_by_xpath('//*[@id=\"doctor-141d027a-a272-4361-b095-fa8b47c6b3cd\"]/div[2]/div[1]/label')\n",
    "        time.sleep(random.randint(1,2))\n",
    "        check_box_pro.click()\n",
    "        \n",
    "        time.sleep(random.randint(1,2))\n",
    "        submit_button = browser.find_element_by_xpath('//*[@id=\"doctor-141d027a-a272-4361-b095-fa8b47c6b3cd\"]/div[3]/a[1]')\n",
    "        time.sleep(2)\n",
    "        submit_button.click()\n",
    "        time.sleep(1)\n",
    "    except:\n",
    "        browser.quit()\n",
    "        return vote()\n",
    "\n",
    "#     check_box_nice = browser.find_element_by_xpath('//*[@id=\"doctor-141d027a-a272-4361-b095-fa8b47c6b3cd\"]/div[2]/div[2]/label')\n",
    "#     check_box_nice.click()\n",
    "#     check_box_detail = browser.find_element_by_xpath('//*[@id=\"doctor-141d027a-a272-4361-b095-fa8b47c6b3cd\"]/div[2]/div[3]/label')\n",
    "#     chekc_box_detail.click()\n",
    "#     check_box_med = browser.find_element_by_xpath('//*[@id=\"doctor-141d027a-a272-4361-b095-fa8b47c6b3cd\"]/div[2]/div[4]/label')\n",
    "#     check_box_med.click()\n",
    "\n",
    "#     check_box_pro = browser.find_element_by_xpath('//*[@id=\"doctor-141d027a-a272-4361-b095-fa8b47c6b3cd\"]/div[2]/div[1]/label')\n",
    "#     check_box_nice = browser.find_element_by_xpath('//*[@id=\"doctor-141d027a-a272-4361-b095-fa8b47c6b3cd\"]/div[2]/div[2]/label')\n",
    "#     check_box_detail = browser.find_element_by_xpath('//*[@id=\"doctor-141d027a-a272-4361-b095-fa8b47c6b3cd\"]/div[2]/div[3]/label')\n",
    "#     check_box_med = browser.find_element_by_xpath('//*[@id=\"doctor-141d027a-a272-4361-b095-fa8b47c6b3cd\"]/div[2]/div[4]/label')\n",
    "\n",
    "#     checkbox_list = [check_box_pro, check_box_nice, check_box_detail, check_box_med]\n",
    "\n",
    "#     pick = random.randint(1,4)\n",
    "#     chosen_checkbox = random.choices(checkbox_list, k=pick)\n",
    "\n",
    "#     for val in chosen_checkbox:\n",
    "#         val.click()\n",
    "\n",
    "\n",
    "\n",
    "    browser.quit()\n",
    "        \n",
    "    return\n"
   ]
  },
  {
   "cell_type": "code",
   "execution_count": 34,
   "metadata": {},
   "outputs": [],
   "source": [
    "vote()"
   ]
  },
  {
   "cell_type": "code",
   "execution_count": 35,
   "metadata": {},
   "outputs": [],
   "source": [
    "def loopvote(n):\n",
    "    time.sleep(random.randint(5,10))\n",
    "    while n>0:\n",
    "        print('remained '+str(n))\n",
    "        try:\n",
    "            vote()\n",
    "            n = n-1\n",
    "        except:\n",
    "            time.sleep(10)\n",
    "            return loopvote(n)\n",
    "        \n",
    "    return"
   ]
  },
  {
   "cell_type": "code",
   "execution_count": null,
   "metadata": {},
   "outputs": [
    {
     "name": "stdout",
     "output_type": "stream",
     "text": [
      "remained 1000\n",
      "remained 999\n",
      "remained 998\n",
      "remained 997\n",
      "remained 996\n",
      "remained 995\n"
     ]
    }
   ],
   "source": [
    "loopvote(1000)"
   ]
  },
  {
   "cell_type": "code",
   "execution_count": null,
   "metadata": {},
   "outputs": [],
   "source": []
  },
  {
   "cell_type": "code",
   "execution_count": null,
   "metadata": {},
   "outputs": [],
   "source": []
  }
 ],
 "metadata": {
  "kernelspec": {
   "display_name": "Python 3",
   "language": "python",
   "name": "python3"
  },
  "language_info": {
   "codemirror_mode": {
    "name": "ipython",
    "version": 3
   },
   "file_extension": ".py",
   "mimetype": "text/x-python",
   "name": "python",
   "nbconvert_exporter": "python",
   "pygments_lexer": "ipython3",
   "version": "3.7.4"
  }
 },
 "nbformat": 4,
 "nbformat_minor": 4
}
