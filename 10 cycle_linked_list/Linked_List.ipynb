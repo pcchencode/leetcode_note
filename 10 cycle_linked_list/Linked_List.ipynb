{
 "cells": [
  {
   "cell_type": "code",
   "execution_count": 1,
   "metadata": {
    "ExecuteTime": {
     "end_time": "2021-01-12T10:41:36.275198Z",
     "start_time": "2021-01-12T10:41:36.268136Z"
    }
   },
   "outputs": [],
   "source": [
    "import os"
   ]
  },
  {
   "cell_type": "code",
   "execution_count": 2,
   "metadata": {
    "ExecuteTime": {
     "end_time": "2021-01-12T10:41:58.265475Z",
     "start_time": "2021-01-12T10:41:58.259309Z"
    }
   },
   "outputs": [],
   "source": [
    "class ListNode:\n",
    "    def __init__(self, x):\n",
    "        self.val = x\n",
    "        self.next = None"
   ]
  },
  {
   "cell_type": "code",
   "execution_count": 3,
   "metadata": {
    "ExecuteTime": {
     "end_time": "2021-01-12T10:42:52.738522Z",
     "start_time": "2021-01-12T10:42:52.732502Z"
    }
   },
   "outputs": [
    {
     "name": "stdout",
     "output_type": "stream",
     "text": [
      "140669562332688\n",
      "140669561879440\n"
     ]
    }
   ],
   "source": [
    "n1 = ListNode(3)\n",
    "n1.next = ListNode(4)\n",
    "n2 = ListNode(3)\n",
    "n2.next = ListNode(4)\n",
    "\n",
    "# 可以看出 n1, n2 雖然長得完全一樣，但是在不同的記憶體位址\n",
    "print(id(n1))\n",
    "print(id(n2))"
   ]
  },
  {
   "cell_type": "code",
   "execution_count": 5,
   "metadata": {
    "ExecuteTime": {
     "end_time": "2021-01-12T10:45:25.569755Z",
     "start_time": "2021-01-12T10:45:25.564258Z"
    }
   },
   "outputs": [],
   "source": [
    "# 自己造一個有cycle的linked list\n",
    "h1 = ListNode(3)\n",
    "h1.next = ListNode(2)\n",
    "h1.next.next = ListNode(0)\n",
    "h1.next.next.next = ListNode(4)\n",
    "h1.next.next.next.next = h1.next"
   ]
  },
  {
   "cell_type": "code",
   "execution_count": 6,
   "metadata": {
    "ExecuteTime": {
     "end_time": "2021-01-12T10:45:25.938113Z",
     "start_time": "2021-01-12T10:45:25.931645Z"
    }
   },
   "outputs": [],
   "source": [
    "# 反之，再造一個沒有cycle的linked list\n",
    "h2 = ListNode(3)\n",
    "h2.next = ListNode(2)\n",
    "h2.next.next = ListNode(0)\n",
    "h2.next.next.next = ListNode(4)\n",
    "h2.next.next.next.next = ListNode(2)"
   ]
  },
  {
   "cell_type": "code",
   "execution_count": 9,
   "metadata": {
    "ExecuteTime": {
     "end_time": "2021-01-12T10:46:41.161391Z",
     "start_time": "2021-01-12T10:46:41.142116Z"
    }
   },
   "outputs": [
    {
     "name": "stdout",
     "output_type": "stream",
     "text": [
      "True\n",
      "False\n"
     ]
    }
   ],
   "source": [
    "def isCycle(h):\n",
    "    result = False\n",
    "    addr_lst = []\n",
    "    addr_lst.append(id(h))\n",
    "    if h: # 如果為空節點，就一定沒有cycle\n",
    "        while h.next != None:\n",
    "            # print(h)\n",
    "            if id(h.next) not in addr_lst:\n",
    "                #print(id(h.next))\n",
    "                addr_lst.append(id(h.next))\n",
    "            else:\n",
    "                #print(\"cycle!!\")\n",
    "                result = True\n",
    "                break\n",
    "            if h.next != None:\n",
    "               h = h.next\n",
    "    #print(addr_lst)\n",
    "    return result\n",
    "\n",
    "print(isCycle(h1)) # h1 is cycled\n",
    "print(isCycle(h2)) # h2 is not cycled"
   ]
  }
 ],
 "metadata": {
  "kernelspec": {
   "display_name": "Python 3",
   "language": "python",
   "name": "python3"
  },
  "language_info": {
   "codemirror_mode": {
    "name": "ipython",
    "version": 3
   },
   "file_extension": ".py",
   "mimetype": "text/x-python",
   "name": "python",
   "nbconvert_exporter": "python",
   "pygments_lexer": "ipython3",
   "version": "3.7.6"
  }
 },
 "nbformat": 4,
 "nbformat_minor": 4
}
