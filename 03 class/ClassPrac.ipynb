{
 "cells": [
  {
   "cell_type": "markdown",
   "metadata": {},
   "source": [
    "# Class 類別\n",
    "## 對於那些很常被使用、固定歷程的程式，可以做成 class，像是：access in database、log file 紀錄\n",
    "* 基礎概念\n",
    "    - 一開始都要打建構子：__init__ 是個會自動呼叫的 method, 藉由這個自動呼叫的函式, 我們可以把一些事只要建立物件實例、就會預設的屬性。ＥＸ建立「人」這個物件，只要有人就會有「姓名」, 因使可以定義 self.name 進入 __init__ 中, 這樣每次定義出一個物件實例, 都會自動帶入「姓名」這個屬性.\n",
    "    ```python\n",
    "    def __init__(self, var1, var2, ...):\n",
    "        self.var1 = ...\n",
    "        self.var2 = ...\n",
    "    ```\n",
    "    \n",
    "    - 每一個 method 方法都要加入 **self** 字句\n",
    "    ```python\n",
    "    def method(self, blablal):\n",
    "        do something\n",
    "        return sth\n",
    "    ```\n",
    "\n",
    "* 繼承\n",
    "    - python 中的類別都預設繼承自 object\n",
    "    ```python\n",
    "    class Student == class Student(object)\n",
    "    ```\n",
    "* 覆寫"
   ]
  },
  {
   "cell_type": "markdown",
   "metadata": {},
   "source": [
    "## 基礎概念"
   ]
  },
  {
   "cell_type": "code",
   "execution_count": 8,
   "metadata": {},
   "outputs": [],
   "source": [
    "# 定義一個物件 Cricle\n",
    "# 我在一段程式碼、很需要常常定義出一個圓，這時我就可以特別定義一個物件、叫做：Cricle, 並根據 instances, methods 去描繪這個物件\n",
    "class Circle(object):\n",
    "    # 建構初始實體屬性 \"半徑\" radius\n",
    "    def __init__(self, radius):\n",
    "        self.radius = radius\n",
    "    \n",
    "    # 定義算出圓面積的 method 方法\n",
    "    def get_area(self):\n",
    "        rad = self.radius\n",
    "        return 3.14 * rad**2\n",
    "\n",
    "    # 根據圓面積，定義出圓大小的方法\n",
    "    def size(self):\n",
    "        if self.get_area() >= 100:\n",
    "            return \"large\"\n",
    "        elif self.get_area()>=50 and self.get_area()<100:\n",
    "            return \"medium\"\n",
    "        else:\n",
    "            return \"small\""
   ]
  },
  {
   "cell_type": "code",
   "execution_count": 9,
   "metadata": {},
   "outputs": [],
   "source": [
    "c1 = Circle(radius=100)"
   ]
  },
  {
   "cell_type": "code",
   "execution_count": 10,
   "metadata": {},
   "outputs": [
    {
     "data": {
      "text/plain": [
       "31400.0"
      ]
     },
     "execution_count": 10,
     "metadata": {},
     "output_type": "execute_result"
    }
   ],
   "source": [
    "c1.get_area()"
   ]
  },
  {
   "cell_type": "code",
   "execution_count": 11,
   "metadata": {},
   "outputs": [
    {
     "data": {
      "text/plain": [
       "'large'"
      ]
     },
     "execution_count": 11,
     "metadata": {},
     "output_type": "execute_result"
    }
   ],
   "source": [
    "c1.size()"
   ]
  },
  {
   "cell_type": "markdown",
   "metadata": {},
   "source": [
    "***"
   ]
  },
  {
   "cell_type": "code",
   "execution_count": 12,
   "metadata": {},
   "outputs": [],
   "source": [
    "class Calculator(object):\n",
    "    def __init__(self, name, brand):\n",
    "        self.name = name\n",
    "        self.brand = brand\n",
    "\n",
    "    def sum(self, a, b):\n",
    "        return a+b\n",
    "\n",
    "    def substract(self, a, b):\n",
    "        return a-b\n",
    "\n",
    "    def times(self, a ,b):\n",
    "        return a*b\n",
    "\n",
    "    def devide(self, a, b):\n",
    "        if b==0:\n",
    "            return \"you cant devide by zero\"\n",
    "        else:\n",
    "            return a/b"
   ]
  },
  {
   "cell_type": "code",
   "execution_count": 13,
   "metadata": {},
   "outputs": [],
   "source": [
    "c1 = Calculator(name='fx-82 SOLAR', brand='CASIO')"
   ]
  },
  {
   "cell_type": "code",
   "execution_count": 14,
   "metadata": {},
   "outputs": [
    {
     "data": {
      "text/plain": [
       "'fx-82 SOLAR'"
      ]
     },
     "execution_count": 14,
     "metadata": {},
     "output_type": "execute_result"
    }
   ],
   "source": [
    "c1.name"
   ]
  },
  {
   "cell_type": "code",
   "execution_count": 15,
   "metadata": {},
   "outputs": [
    {
     "data": {
      "text/plain": [
       "7"
      ]
     },
     "execution_count": 15,
     "metadata": {},
     "output_type": "execute_result"
    }
   ],
   "source": [
    "c1.sum(3,4)"
   ]
  },
  {
   "cell_type": "code",
   "execution_count": 16,
   "metadata": {},
   "outputs": [
    {
     "data": {
      "text/plain": [
       "0.5"
      ]
     },
     "execution_count": 16,
     "metadata": {},
     "output_type": "execute_result"
    }
   ],
   "source": [
    "c1.devide(2,4)"
   ]
  },
  {
   "cell_type": "markdown",
   "metadata": {},
   "source": [
    "***"
   ]
  },
  {
   "cell_type": "markdown",
   "metadata": {},
   "source": [
    "## 繼承"
   ]
  },
  {
   "cell_type": "code",
   "execution_count": 17,
   "metadata": {},
   "outputs": [
    {
     "name": "stdout",
     "output_type": "stream",
     "text": [
      "==== Details ====\n",
      "Brand: Toyota RAV\n",
      "Wheels number: 4\n",
      "Doors number: 5\n",
      "Air-bags number: 4\n",
      "Sunroof: True\n",
      "=================\n",
      "==== Details ====\n",
      "Brand: BMW X5\n",
      "Wheels number: 4\n",
      "Doors number: 5\n",
      "Air-bags number: 6\n",
      "Sunroof: True\n",
      "=================\n"
     ]
    }
   ],
   "source": [
    "class Car:\n",
    "    wheels_number = 4      # 輪胎數量\n",
    "    car_doors = 4          # 車門數量\n",
    "    passengers = 4         # 乘客數量\n",
    "    def __init__(self, wheels_number=4, car_doors=4, passengers=4):\n",
    "        self.wheels_number = wheels_number\n",
    "        self.car_doors = car_doors\n",
    "        self.passengers = passengers\n",
    "\n",
    "# SUV也是一種車子，所以繼承Car\n",
    "class SUV(Car):\n",
    "    brand_name = \"\"        # 品牌名稱\n",
    "    air_bag = 2            # 安全氣囊數\n",
    "    sunroof = True         # 是否擁有天窗\n",
    "    def __init__(self, wheels_number, car_doors, passengers, brand_name=\"\", air_bag=2, sunroof=False):\n",
    "        super().__init__(wheels_number, car_doors, passengers) # 使用 super() 繼承 Car 的 __init__\n",
    "        self.brand_name = brand_name\n",
    "        self.air_bag = air_bag\n",
    "        self.sunroof = sunroof\n",
    "\n",
    "    def getDetails(self):\n",
    "        print(\"==== Details ====\")\n",
    "        print(\"Brand:\", self.brand_name)\n",
    "        print(\"Wheels number:\", self.wheels_number)    # 可直接呼叫父類別的變數(屬性)\n",
    "        print(\"Doors number:\", self.car_doors)         # 可直接呼叫父類別的變數(屬性)\n",
    "        print(\"Air-bags number:\", self.air_bag)\n",
    "        print(\"Sunroof:\", self.sunroof)\n",
    "        print(\"=================\")\n",
    "\n",
    "# 宣告一台Toyota RAV的休旅車(SUV)\n",
    "toyota_rav = SUV(4, 5, 5, \"Toyota RAV\", 4, True)\n",
    "toyota_rav.getDetails()\n",
    "# 宣告一台BMW X5的休旅車\n",
    "bmw_x5 = SUV(4, 5, 5, \"BMW X5\", 6, True)\n",
    "bmw_x5.getDetails()"
   ]
  },
  {
   "cell_type": "code",
   "execution_count": null,
   "metadata": {},
   "outputs": [],
   "source": []
  }
 ],
 "metadata": {
  "kernelspec": {
   "display_name": "Python 3",
   "language": "python",
   "name": "python3"
  },
  "language_info": {
   "codemirror_mode": {
    "name": "ipython",
    "version": 3
   },
   "file_extension": ".py",
   "mimetype": "text/x-python",
   "name": "python",
   "nbconvert_exporter": "python",
   "pygments_lexer": "ipython3",
   "version": "3.7.3"
  }
 },
 "nbformat": 4,
 "nbformat_minor": 4
}
