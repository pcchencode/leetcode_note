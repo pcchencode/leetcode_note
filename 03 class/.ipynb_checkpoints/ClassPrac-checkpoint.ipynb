{
 "cells": [
  {
   "cell_type": "code",
   "execution_count": null,
   "metadata": {},
   "outputs": [],
   "source": []
  },
  {
   "cell_type": "code",
   "execution_count": null,
   "metadata": {},
   "outputs": [],
   "source": [
    "class Circle(object):\n",
    "    def __init__(self, radius):\n",
    "        self.radius = radius\n",
    "\n",
    "    def get_area(self):\n",
    "        rad = self.radius\n",
    "        return 3.14 * rad**2\n",
    "\n",
    "    def size(self):\n",
    "        if self.get_area() >= 100:\n",
    "            return \"large\"\n",
    "        elif self.get_area()>=50 and self.get_area()<100:\n",
    "            return \"medium\"\n",
    "        else:\n",
    "            return \"small\""
   ]
  }
 ],
 "metadata": {
  "kernelspec": {
   "display_name": "Python 3",
   "language": "python",
   "name": "python3"
  },
  "language_info": {
   "codemirror_mode": {
    "name": "ipython",
    "version": 3
   },
   "file_extension": ".py",
   "mimetype": "text/x-python",
   "name": "python",
   "nbconvert_exporter": "python",
   "pygments_lexer": "ipython3",
   "version": "3.7.6"
  }
 },
 "nbformat": 4,
 "nbformat_minor": 4
}
