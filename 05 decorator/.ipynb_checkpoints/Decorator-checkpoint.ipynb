{
 "cells": [
  {
   "cell_type": "markdown",
   "metadata": {},
   "source": [
    "## Decorator 函數的 **裝飾器**"
   ]
  },
  {
   "cell_type": "code",
   "execution_count": 4,
   "metadata": {},
   "outputs": [],
   "source": [
    "import time"
   ]
  },
  {
   "cell_type": "code",
   "execution_count": 133,
   "metadata": {},
   "outputs": [],
   "source": [
    "# 錯誤範例一: NameError: name 'a' is not defined\n",
    "def timer(func):\n",
    "    # 一定要寫一個 wrap closure function, 要不然所調用的 func 會不知道要引入arg val是多少, args:a? b?\n",
    "    s = time.time()\n",
    "    result = func(a,b)\n",
    "    e = time.time()\n",
    "    print(e-s)\n",
    "        \n",
    "    return result"
   ]
  },
  {
   "cell_type": "code",
   "execution_count": 139,
   "metadata": {},
   "outputs": [],
   "source": [
    "# 錯誤範例二: TypeError: wrap() takes 0 positional arguments but 2 were given\n",
    "def timer(func):\n",
    "    def wrap(): # 為什麼這邊 wrap 也要有兩個 positional arguments? 因為在 timer 裡面, wrap 會呼叫 add 這個函數\n",
    "        # 而 add 這個函數需要輸入 a,b 這兩個引數。因此 wrap 一定要指定跟 add(a,b) 一樣相同的引數, 才不會出錯。\n",
    "        s = time.time()\n",
    "        result = func(a,b)\n",
    "        e = time.time()\n",
    "        print(e-s)\n",
    "        return result\n",
    "        \n",
    "    return wrap"
   ]
  },
  {
   "cell_type": "code",
   "execution_count": 142,
   "metadata": {},
   "outputs": [],
   "source": [
    "# 正確範例, 如果函數有輸出return, 記得要把輸出結果暫存、並且return\n",
    "def timer(func):\n",
    "    def wrap(a,b): \n",
    "        s = time.time()\n",
    "        result = func(a,b) # 把輸出結果暫存\n",
    "        e = time.time()\n",
    "        print(e-s)\n",
    "        return result # 並且 return\n",
    "        \n",
    "    return wrap"
   ]
  },
  {
   "cell_type": "code",
   "execution_count": 122,
   "metadata": {},
   "outputs": [],
   "source": [
    "# 方便起見：不管 func() 本身需要多少引數, 我們都把他集大成搜集起來, 讓 wrap and decorator 可以執行\n",
    "def timer(func):\n",
    "    def wrap(*args,**kwargs): \n",
    "        s = time.time()\n",
    "        result = func(*args, **kwargs)\n",
    "        e = time.time()\n",
    "        print(e-s)\n",
    "        return result\n",
    "        \n",
    "    return wrap"
   ]
  },
  {
   "cell_type": "code",
   "execution_count": 143,
   "metadata": {},
   "outputs": [],
   "source": [
    "@timer\n",
    "def add(a,b):\n",
    "    return a**2+b**3"
   ]
  },
  {
   "cell_type": "code",
   "execution_count": 144,
   "metadata": {},
   "outputs": [
    {
     "name": "stdout",
     "output_type": "stream",
     "text": [
      "1.9073486328125e-06\n"
     ]
    },
    {
     "data": {
      "text/plain": [
       "31"
      ]
     },
     "execution_count": 144,
     "metadata": {},
     "output_type": "execute_result"
    }
   ],
   "source": [
    "add(2,3)"
   ]
  },
  {
   "cell_type": "markdown",
   "metadata": {},
   "source": [
    "***"
   ]
  },
  {
   "cell_type": "code",
   "execution_count": 111,
   "metadata": {},
   "outputs": [],
   "source": [
    "def add(a,b):\n",
    "    return a**2+b**3"
   ]
  },
  {
   "cell_type": "code",
   "execution_count": 114,
   "metadata": {},
   "outputs": [],
   "source": [
    "def wrap():\n",
    "    result = add(a,b)\n",
    "    return result"
   ]
  },
  {
   "cell_type": "code",
   "execution_count": 126,
   "metadata": {},
   "outputs": [
    {
     "ename": "TypeError",
     "evalue": "wrap() takes 0 positional arguments but 1 was given",
     "output_type": "error",
     "traceback": [
      "\u001b[0;31m---------------------------------------------------------------------------\u001b[0m",
      "\u001b[0;31mTypeError\u001b[0m                                 Traceback (most recent call last)",
      "\u001b[0;32m<ipython-input-126-85ae9ac3fcc4>\u001b[0m in \u001b[0;36m<module>\u001b[0;34m\u001b[0m\n\u001b[0;32m----> 1\u001b[0;31m \u001b[0madd\u001b[0m \u001b[0;34m=\u001b[0m \u001b[0mwrap\u001b[0m\u001b[0;34m(\u001b[0m\u001b[0madd\u001b[0m\u001b[0;34m)\u001b[0m\u001b[0;34m\u001b[0m\u001b[0;34m\u001b[0m\u001b[0m\n\u001b[0m",
      "\u001b[0;31mTypeError\u001b[0m: wrap() takes 0 positional arguments but 1 was given"
     ]
    }
   ],
   "source": [
    "add = wrap(add)"
   ]
  },
  {
   "cell_type": "raw",
   "metadata": {},
   "source": []
  }
 ],
 "metadata": {
  "kernelspec": {
   "display_name": "Python 3",
   "language": "python",
   "name": "python3"
  },
  "language_info": {
   "codemirror_mode": {
    "name": "ipython",
    "version": 3
   },
   "file_extension": ".py",
   "mimetype": "text/x-python",
   "name": "python",
   "nbconvert_exporter": "python",
   "pygments_lexer": "ipython3",
   "version": "3.7.6"
  }
 },
 "nbformat": 4,
 "nbformat_minor": 4
}
