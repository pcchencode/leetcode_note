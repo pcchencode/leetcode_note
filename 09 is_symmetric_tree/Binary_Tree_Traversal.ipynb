{
 "cells": [
  {
   "cell_type": "code",
   "execution_count": 3,
   "metadata": {
    "ExecuteTime": {
     "end_time": "2021-01-09T07:20:32.134816Z",
     "start_time": "2021-01-09T07:20:32.132086Z"
    }
   },
   "outputs": [],
   "source": [
    "import os\n",
    "import queue"
   ]
  },
  {
   "cell_type": "code",
   "execution_count": 4,
   "metadata": {
    "ExecuteTime": {
     "end_time": "2021-01-09T07:20:32.533949Z",
     "start_time": "2021-01-09T07:20:32.529926Z"
    }
   },
   "outputs": [],
   "source": [
    "class TreeNode:\n",
    "    def __init__(self, val=0, left=None, right=None):\n",
    "        self.val = val\n",
    "        self.left = left\n",
    "        self.right = right"
   ]
  },
  {
   "cell_type": "code",
   "execution_count": 5,
   "metadata": {
    "ExecuteTime": {
     "end_time": "2021-01-09T07:20:33.044095Z",
     "start_time": "2021-01-09T07:20:33.035418Z"
    }
   },
   "outputs": [],
   "source": [
    "c1l = TreeNode(3)\n",
    "c1r = TreeNode(4)\n",
    "c2l = TreeNode(4)\n",
    "c2r = TreeNode(3)\n",
    "c1 = TreeNode(val=2, left=c1l, right=c1r)\n",
    "c2 = TreeNode(val=2, left=c2l, right=c2r)\n",
    "r = TreeNode(val=1, left=c1, right=c2)"
   ]
  },
  {
   "cell_type": "code",
   "execution_count": 6,
   "metadata": {
    "ExecuteTime": {
     "end_time": "2021-01-09T07:20:33.432714Z",
     "start_time": "2021-01-09T07:20:33.424964Z"
    }
   },
   "outputs": [],
   "source": [
    "c1l = None\n",
    "c1r = TreeNode(3)\n",
    "c2l = None\n",
    "c2r = TreeNode(3)\n",
    "c1 = TreeNode(val=2, left=c1l, right=c1r)\n",
    "c2 = TreeNode(val=2, left=c2l, right=c2r)\n",
    "r = TreeNode(val=1, left=c1, right=c2)"
   ]
  },
  {
   "cell_type": "code",
   "execution_count": 7,
   "metadata": {
    "ExecuteTime": {
     "end_time": "2021-01-09T07:20:33.792619Z",
     "start_time": "2021-01-09T07:20:33.785750Z"
    }
   },
   "outputs": [],
   "source": [
    "c1l = None\n",
    "c1r = TreeNode(3)\n",
    "c2l = TreeNode(3)\n",
    "c2r = None\n",
    "c1 = TreeNode(val=2, left=c1l, right=c1r)\n",
    "c2 = TreeNode(val=2, left=c2l, right=c2r)\n",
    "r = TreeNode(val=1, left=c1, right=c2)"
   ]
  },
  {
   "cell_type": "code",
   "execution_count": 8,
   "metadata": {
    "ExecuteTime": {
     "end_time": "2021-01-09T07:20:34.240576Z",
     "start_time": "2021-01-09T07:20:34.234064Z"
    }
   },
   "outputs": [
    {
     "name": "stdout",
     "output_type": "stream",
     "text": [
      "1\n",
      "2\n",
      "None\n"
     ]
    }
   ],
   "source": [
    "print(r.val)\n",
    "print(r.left.val)\n",
    "print(r.left.left)"
   ]
  },
  {
   "cell_type": "code",
   "execution_count": 10,
   "metadata": {
    "ExecuteTime": {
     "end_time": "2021-01-09T07:25:05.595004Z",
     "start_time": "2021-01-09T07:25:05.582369Z"
    }
   },
   "outputs": [
    {
     "name": "stdout",
     "output_type": "stream",
     "text": [
      "1\n",
      "2\n",
      "2\n",
      "NONE\n",
      "3\n",
      "3\n",
      "NONE\n",
      "NONE\n",
      "NONE\n",
      "NONE\n",
      "NONE\n"
     ]
    },
    {
     "data": {
      "text/plain": [
       "[1, 2, 2, 'NONE', 3, 3, 'NONE', 'NONE', 'NONE', 'NONE', 'NONE']"
      ]
     },
     "execution_count": 10,
     "metadata": {},
     "output_type": "execute_result"
    }
   ],
   "source": [
    "def bfs_tra(root):\n",
    "    result = []\n",
    "    q = queue.Queue()\n",
    "    q.put(root)\n",
    "    while q.qsize()>0:\n",
    "        node = q.get()\n",
    "        if type(node) is TreeNode:\n",
    "            print(node.val)\n",
    "            result.append(node.val)\n",
    "            if node.left != None:\n",
    "                q.put(node.left)\n",
    "            else:\n",
    "                q.put(\"NONE\")\n",
    "            if node.right != None:\n",
    "                q.put(node.right)\n",
    "            else:\n",
    "                q.put(\"NONE\")\n",
    "        else:\n",
    "            print(node)\n",
    "            result.append(node)\n",
    "    return result\n",
    "\n",
    "bfs_tra(r)"
   ]
  },
  {
   "cell_type": "code",
   "execution_count": 68,
   "metadata": {
    "ExecuteTime": {
     "end_time": "2021-01-09T01:28:13.469983Z",
     "start_time": "2021-01-09T01:28:13.457717Z"
    }
   },
   "outputs": [
    {
     "name": "stdout",
     "output_type": "stream",
     "text": [
      "1\n",
      "2\n",
      "NONE\n",
      "3\n",
      "NONE\n",
      "NONE\n",
      "2\n",
      "3\n",
      "NONE\n",
      "NONE\n",
      "NONE\n",
      "[1, 2, 'NONE', 3, 'NONE', 'NONE', 2, 3, 'NONE', 'NONE', 'NONE']\n",
      "1\n",
      "2\n",
      "NONE\n",
      "3\n",
      "NONE\n",
      "NONE\n",
      "2\n",
      "3\n",
      "NONE\n",
      "NONE\n",
      "NONE\n",
      "[1, 2, 'NONE', 3, 'NONE', 'NONE', 2, 3, 'NONE', 'NONE', 'NONE']\n"
     ]
    }
   ],
   "source": [
    "def dfs_right(root):\n",
    "    result = []\n",
    "    stack = []\n",
    "    stack.append(root)\n",
    "    while len(stack)>0:\n",
    "        node = stack.pop()\n",
    "        \n",
    "        if type(node) is TreeNode:\n",
    "            print(node.val)\n",
    "            result.append(node.val)\n",
    "\n",
    "            if node.left != None:\n",
    "                stack.append(node.left)\n",
    "            else:\n",
    "                stack.append(\"NONE\")\n",
    "            if node.right != None:\n",
    "                stack.append(node.right)\n",
    "            else:\n",
    "                stack.append(\"NONE\")\n",
    "        else:\n",
    "            print(node)\n",
    "            result.append(node)\n",
    "    return result\n",
    "\n",
    "def dfs_left(root):\n",
    "    result = []\n",
    "    stack = []\n",
    "    stack.append(root)\n",
    "    while len(stack)>0:\n",
    "        node = stack.pop()\n",
    "        \n",
    "        if type(node) is TreeNode:\n",
    "            print(node.val)\n",
    "            result.append(node.val)\n",
    "\n",
    "            if node.right != None:\n",
    "                stack.append(node.right)\n",
    "            else:\n",
    "                stack.append(\"NONE\")\n",
    "            if node.left != None:\n",
    "                stack.append(node.left)\n",
    "            else:\n",
    "                stack.append(\"NONE\")\n",
    "        else:\n",
    "            print(node)\n",
    "            result.append(node)\n",
    "    return result\n",
    "\n",
    "print(dfs_right(r))\n",
    "print(dfs_left(r))"
   ]
  },
  {
   "cell_type": "code",
   "execution_count": null,
   "metadata": {},
   "outputs": [],
   "source": []
  }
 ],
 "metadata": {
  "kernelspec": {
   "display_name": "Python 3",
   "language": "python",
   "name": "python3"
  },
  "language_info": {
   "codemirror_mode": {
    "name": "ipython",
    "version": 3
   },
   "file_extension": ".py",
   "mimetype": "text/x-python",
   "name": "python",
   "nbconvert_exporter": "python",
   "pygments_lexer": "ipython3",
   "version": "3.7.6"
  }
 },
 "nbformat": 4,
 "nbformat_minor": 4
}
