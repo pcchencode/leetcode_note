{
 "cells": [
  {
   "cell_type": "code",
   "execution_count": 2,
   "metadata": {
    "ExecuteTime": {
     "end_time": "2021-01-08T02:12:45.481537Z",
     "start_time": "2021-01-08T02:12:45.466003Z"
    }
   },
   "outputs": [],
   "source": [
    "import os\n",
    "import queue"
   ]
  },
  {
   "cell_type": "code",
   "execution_count": 3,
   "metadata": {
    "ExecuteTime": {
     "end_time": "2021-01-08T02:12:45.886441Z",
     "start_time": "2021-01-08T02:12:45.881111Z"
    }
   },
   "outputs": [],
   "source": [
    "class TreeNode:\n",
    "    def __init__(self, val=0, left=None, right=None):\n",
    "        self.val = val\n",
    "        self.left = left\n",
    "        self.right = right"
   ]
  },
  {
   "cell_type": "code",
   "execution_count": 15,
   "metadata": {
    "ExecuteTime": {
     "end_time": "2021-01-08T02:37:00.938484Z",
     "start_time": "2021-01-08T02:37:00.932614Z"
    }
   },
   "outputs": [],
   "source": [
    "c1l = TreeNode(3)\n",
    "c1r = TreeNode(4)\n",
    "c2l = TreeNode(4)\n",
    "c2r = TreeNode(3)\n",
    "c1 = TreeNode(val=2, left=c1l, right=c1r)\n",
    "c2 = TreeNode(val=2, left=c2l, right=c2r)\n",
    "r = TreeNode(val=1, left=c1, right=c2)"
   ]
  },
  {
   "cell_type": "code",
   "execution_count": 16,
   "metadata": {
    "ExecuteTime": {
     "end_time": "2021-01-08T02:37:01.971571Z",
     "start_time": "2021-01-08T02:37:01.965902Z"
    }
   },
   "outputs": [
    {
     "name": "stdout",
     "output_type": "stream",
     "text": [
      "1\n",
      "2\n"
     ]
    }
   ],
   "source": [
    "print(r.val)\n",
    "print(r.left.val)"
   ]
  },
  {
   "cell_type": "code",
   "execution_count": 18,
   "metadata": {
    "ExecuteTime": {
     "end_time": "2021-01-08T02:38:26.489011Z",
     "start_time": "2021-01-08T02:38:26.478597Z"
    }
   },
   "outputs": [
    {
     "name": "stdout",
     "output_type": "stream",
     "text": [
      "1\n",
      "2\n",
      "2\n",
      "3\n",
      "4\n",
      "4\n",
      "3\n"
     ]
    },
    {
     "data": {
      "text/plain": [
       "[1, 2, 2, 3, 4, 4, 3]"
      ]
     },
     "execution_count": 18,
     "metadata": {},
     "output_type": "execute_result"
    }
   ],
   "source": [
    "def treenode_to_list(root):\n",
    "    result = []\n",
    "    q = queue.Queue()\n",
    "    q.put(root)\n",
    "    while q.qsize()>0:\n",
    "        node = q.get()\n",
    "        print(node.val)\n",
    "        result.append(node.val)\n",
    "        if node.left != None:\n",
    "            q.put(node.left)\n",
    "        if node.right != None:\n",
    "            q.put(node.right)\n",
    "    return result\n",
    "\n",
    "treenode_to_list(r)"
   ]
  },
  {
   "cell_type": "code",
   "execution_count": null,
   "metadata": {},
   "outputs": [],
   "source": []
  }
 ],
 "metadata": {
  "kernelspec": {
   "display_name": "Python 3",
   "language": "python",
   "name": "python3"
  },
  "language_info": {
   "codemirror_mode": {
    "name": "ipython",
    "version": 3
   },
   "file_extension": ".py",
   "mimetype": "text/x-python",
   "name": "python",
   "nbconvert_exporter": "python",
   "pygments_lexer": "ipython3",
   "version": "3.7.6"
  }
 },
 "nbformat": 4,
 "nbformat_minor": 4
}
