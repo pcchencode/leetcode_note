{
 "cells": [
  {
   "cell_type": "markdown",
   "metadata": {},
   "source": [
    "# Question 17. Excel Sheet Column Number\n",
    "Given a column title as appear in an Excel sheet, return its corresponding column number.\n",
    "\n",
    "For example:\n",
    "\n",
    "    A -> 1\n",
    "    B -> 2\n",
    "    C -> 3\n",
    "    ...\n",
    "    Z -> 26\n",
    "    AA -> 27\n",
    "    AB -> 28 \n",
    "    ...\n",
    "Example 1:\n",
    "\n",
    "Input: \"A\"\n",
    "Output: 1\n",
    "Example 2:\n",
    "\n",
    "Input: \"AB\"\n",
    "Output: 28\n",
    "Example 3:\n",
    "\n",
    "Input: \"ZY\"\n",
    "Output: 701\n",
    "\n",
    "***\n",
    "此道題目其實就是把 `二十六進制` 轉為 `十進制`"
   ]
  },
  {
   "cell_type": "markdown",
   "metadata": {},
   "source": [
    "### 演算法邏輯\n",
    "* 先從字串的最左邊、至右開始做起\n",
    "* **ZY** : $26^1 * 26 + 26^0 * 25 = 701$\n",
    "* **QWER** : $26^3 * 17 + 26^2 * 23 + 26^1 * 5 + 26^0 * 18 = 314488$"
   ]
  },
  {
   "cell_type": "code",
   "execution_count": 7,
   "metadata": {
    "ExecuteTime": {
     "end_time": "2020-07-10T02:02:40.027560Z",
     "start_time": "2020-07-10T02:02:40.011220Z"
    }
   },
   "outputs": [
    {
     "name": "stdout",
     "output_type": "stream",
     "text": [
      "28\n",
      "701\n",
      "314488\n"
     ]
    },
    {
     "data": {
      "text/plain": [
       "314488"
      ]
     },
     "execution_count": 7,
     "metadata": {},
     "output_type": "execute_result"
    }
   ],
   "source": [
    "def titleToNumber(s):\n",
    "#     dict_alp_num = {'A':1, 'B':2, 'C':3, 'D':4, 'E':5, 'F':6, 'G':7, 'H':8, 'I':9, 'J':10\n",
    "#                 , 'K':11, 'L':12, 'M':13, 'N':14, 'O':15, 'P':16, 'Q':17, 'R':18, 'S':19, 'T':20\n",
    "#                 , 'U':21, 'V':22, 'W':23, 'X':24, 'Y':25, 'Z':26}\n",
    "    dict_alp_num = {}\n",
    "    for i in range(1, 27):\n",
    "        dict_alp_num[chr(i+64)] = i\n",
    "#     print(dict_alp_num)\n",
    "    i = len(s)\n",
    "    result = 0\n",
    "    for ele in s:\n",
    "        result += pow(26, i-1)*dict_alp_num[ele]\n",
    "        i = i-1\n",
    "    print(result)\n",
    "    return result\n",
    "\n",
    "titleToNumber('AB')\n",
    "titleToNumber('ZY')\n",
    "titleToNumber('QWER')"
   ]
  },
  {
   "cell_type": "markdown",
   "metadata": {},
   "source": [
    "# Question 168. Excel Sheet Column Title\n",
    "Given a positive integer, return its corresponding column title as appear in an Excel sheet.\n",
    "\n",
    "For example:\n",
    "\n",
    "    1 -> A\n",
    "    2 -> B\n",
    "    3 -> C\n",
    "    ...\n",
    "    26 -> Z\n",
    "    27 -> AA\n",
    "    28 -> AB \n",
    "    ...\n",
    "Example 1:\n",
    "\n",
    "Input: 1\n",
    "Output: \"A\"\n",
    "Example 2:\n",
    "\n",
    "Input: 28\n",
    "Output: \"AB\"\n",
    "Example 3:\n",
    "\n",
    "Input: 701\n",
    "Output: \"ZY\"\n",
    "***\n",
    "此道題目變換方向, 將 `十進位制` 轉換為 `二十六進制`, 但有一些特殊點\n",
    "1. 正常二十六進制：{0:Z, 1:A, 2:B, 3:C, ... , 25:Y} -> 0~25, 逢 26 進位\n",
    "2. excel：{26:Z, 1:A, 2:B, 3:C, ... , 25:Y} -> 1~27, 逢 27 進位\n",
    "\n",
    "餘數為0代表剛下的位數到了該進位制度的最高位數(個位數到了十進位的最高位數), 因此跳成給最高位數。下一個位數(百位數)要扣1因為被前一個位數用該進位制度的最高位數取代了。"
   ]
  },
  {
   "cell_type": "markdown",
   "metadata": {},
   "source": [
    "### 演算法邏輯(以二十六進制為例)\n",
    "* 一直除以 26, 將餘數選為該位數需要進位的位置\n",
    "* 下次以商數當作除數, 但注意前一次如果餘數為0要扣1, 繼續把餘數當作下一個位數要進位的位置\n",
    "* 持續做到商數為0停止\n",
    "* 777\n",
    "    - $777 \\div 26 = 29 ... 23('W')$ \n",
    "    - $29 \\div 26 = 1 ... 3('C')$\n",
    "    - $1 \\div 26 = 0 ... 1('A')$\n",
    "* 52\n",
    "    - $52 \\div 26 = 2 ... 0(跳成給'Z')$\n",
    "    - ~~2會錯, 要扣1~~ 1 $1 \\div 26 = 0 ... 1('A')$"
   ]
  },
  {
   "cell_type": "code",
   "execution_count": 14,
   "metadata": {
    "ExecuteTime": {
     "end_time": "2020-07-10T09:41:44.688547Z",
     "start_time": "2020-07-10T09:41:44.660726Z"
    }
   },
   "outputs": [
    {
     "name": "stdout",
     "output_type": "stream",
     "text": [
      "AZ\n",
      "ZZ\n",
      "ACW\n"
     ]
    },
    {
     "data": {
      "text/plain": [
       "'ACW'"
      ]
     },
     "execution_count": 14,
     "metadata": {},
     "output_type": "execute_result"
    }
   ],
   "source": [
    "def convertToTitle(n):\n",
    "    dict_num_alp = {}\n",
    "    for i in range(1, 27):\n",
    "        dict_num_alp[i] = chr(i+64)\n",
    "    # dict_num_alp[0] = 'Z'\n",
    "#     print(dict_num_alp)\n",
    "\n",
    "    result = ''\n",
    "    while n > 0:\n",
    "        quo = int(n/26)\n",
    "        if n%26!=0:\n",
    "            result = dict_num_alp[n%26] + result\n",
    "            n = quo\n",
    "        else:\n",
    "            result = 'Z' + result\n",
    "            n = quo-1\n",
    "    print(result)\n",
    "    return result \n",
    "\n",
    "convertToTitle(52)\n",
    "convertToTitle(702)\n",
    "convertToTitle(777)"
   ]
  },
  {
   "cell_type": "code",
   "execution_count": 4,
   "metadata": {},
   "outputs": [
    {
     "data": {
      "text/plain": [
       "'777     '"
      ]
     },
     "execution_count": 4,
     "metadata": {},
     "output_type": "execute_result"
    }
   ],
   "source": [
    "num = '777'\n",
    "f'{num:8s}'"
   ]
  },
  {
   "cell_type": "code",
   "execution_count": null,
   "metadata": {},
   "outputs": [],
   "source": []
  }
 ],
 "metadata": {
  "kernelspec": {
   "display_name": "Python 3",
   "language": "python",
   "name": "python3"
  },
  "language_info": {
   "codemirror_mode": {
    "name": "ipython",
    "version": 3
   },
   "file_extension": ".py",
   "mimetype": "text/x-python",
   "name": "python",
   "nbconvert_exporter": "python",
   "pygments_lexer": "ipython3",
   "version": "3.9.12"
  }
 },
 "nbformat": 4,
 "nbformat_minor": 2
}
