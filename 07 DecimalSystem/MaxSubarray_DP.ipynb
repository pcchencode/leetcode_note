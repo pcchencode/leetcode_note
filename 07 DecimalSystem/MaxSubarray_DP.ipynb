{
 "cells": [
  {
   "cell_type": "markdown",
   "metadata": {},
   "source": [
    "# Question 17. Excel Sheet Column Number\n",
    "Given a column title as appear in an Excel sheet, return its corresponding column number.\n",
    "\n",
    "For example:\n",
    "\n",
    "    A -> 1\n",
    "    B -> 2\n",
    "    C -> 3\n",
    "    ...\n",
    "    Z -> 26\n",
    "    AA -> 27\n",
    "    AB -> 28 \n",
    "    ...\n",
    "Example 1:\n",
    "\n",
    "Input: \"A\"\n",
    "Output: 1\n",
    "Example 2:\n",
    "\n",
    "Input: \"AB\"\n",
    "Output: 28\n",
    "Example 3:\n",
    "\n",
    "Input: \"ZY\"\n",
    "Output: 701\n",
    "\n",
    "***\n",
    "此道題目其實就是把 `二十六進制` 轉為 `十進制`"
   ]
  },
  {
   "cell_type": "code",
   "execution_count": null,
   "metadata": {},
   "outputs": [],
   "source": []
  }
 ],
 "metadata": {
  "kernelspec": {
   "display_name": "Python 3",
   "language": "python",
   "name": "python3"
  },
  "language_info": {
   "codemirror_mode": {
    "name": "ipython",
    "version": 3
   },
   "file_extension": ".py",
   "mimetype": "text/x-python",
   "name": "python",
   "nbconvert_exporter": "python",
   "pygments_lexer": "ipython3",
   "version": "3.7.4"
  }
 },
 "nbformat": 4,
 "nbformat_minor": 2
}