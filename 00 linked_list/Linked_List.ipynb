{
 "cells": [
  {
   "cell_type": "markdown",
   "metadata": {},
   "source": [
    "# Question 21. Merge Two Sorted Lists\n",
    "Merge two sorted linked lists and return it as a new list. The new list should be made by splicing together the nodes of the first two lists.\n",
    "\n",
    "Example:\n",
    "\n",
    "Input: 1->2->4, 1->3->4\n",
    "Output: 1->1->2->3->4->4"
   ]
  },
  {
   "cell_type": "markdown",
   "metadata": {},
   "source": [
    "## Definition of singly-linked list"
   ]
  },
  {
   "cell_type": "code",
   "execution_count": 37,
   "metadata": {},
   "outputs": [],
   "source": [
    "class ListNode:\n",
    "    def __init__(self, x):\n",
    "        self.val = x\n",
    "        self.next = None"
   ]
  },
  {
   "cell_type": "markdown",
   "metadata": {},
   "source": [
    "## Example Demo\n",
    "\n",
    "<img src=\"https://miro.medium.com/max/3464/1*aeJZmbE3xBDZfYOu6p5CPw.png\">"
   ]
  },
  {
   "cell_type": "code",
   "execution_count": 27,
   "metadata": {},
   "outputs": [],
   "source": [
    "node3 = ListNode(2)"
   ]
  },
  {
   "cell_type": "code",
   "execution_count": 28,
   "metadata": {},
   "outputs": [],
   "source": [
    "node2 = ListNode(5)\n",
    "node2.next = node3"
   ]
  },
  {
   "cell_type": "code",
   "execution_count": 29,
   "metadata": {},
   "outputs": [],
   "source": [
    "node1 = ListNode(3)\n",
    "node1.next = node2"
   ]
  },
  {
   "cell_type": "code",
   "execution_count": 30,
   "metadata": {},
   "outputs": [
    {
     "name": "stdout",
     "output_type": "stream",
     "text": [
      "3\n",
      "<__main__.ListNode object at 0x107baef50>\n",
      "5\n",
      "2\n",
      "None\n"
     ]
    }
   ],
   "source": [
    "# node1 的值是 3\n",
    "# node1 pointer 指向 node2, 而 node2 的值是 5\n",
    "# node2 pointer 指向 node3, 而 node3 的值是2, node3 pointer 指向 None\n",
    "print(node1.val)\n",
    "print(node1.next)\n",
    "print(node1.next.val)\n",
    "print(node1.next.next.val)\n",
    "print(node1.next.next.next)"
   ]
  },
  {
   "cell_type": "markdown",
   "metadata": {},
   "source": [
    "## 寫一個將 linked_list 轉為 list 的函數"
   ]
  },
  {
   "cell_type": "code",
   "execution_count": 31,
   "metadata": {},
   "outputs": [],
   "source": [
    "def convert_to_list(linkedlist):\n",
    "    if linkedlist != None:\n",
    "        lst = []\n",
    "        lst.append(linkedlist.val)\n",
    "        nxt = linkedlist.next\n",
    "        while nxt != None:\n",
    "            if nxt.next == None:\n",
    "                lst.append(nxt.val)\n",
    "                break\n",
    "            else:\n",
    "                lst.append(nxt.val)\n",
    "                nxt = nxt.next\n",
    "        return lst\n",
    "    else:\n",
    "        return []"
   ]
  },
  {
   "cell_type": "code",
   "execution_count": 32,
   "metadata": {},
   "outputs": [
    {
     "data": {
      "text/plain": [
       "[3, 5, 2]"
      ]
     },
     "execution_count": 32,
     "metadata": {},
     "output_type": "execute_result"
    }
   ],
   "source": [
    "convert_to_list(node1)"
   ]
  },
  {
   "cell_type": "markdown",
   "metadata": {},
   "source": [
    "## 寫一個將 list 轉為 linked_list 的函數"
   ]
  },
  {
   "cell_type": "code",
   "execution_count": 33,
   "metadata": {},
   "outputs": [],
   "source": [
    "def convert_to_linked(lst):\n",
    "    if len(lst)!=0:\n",
    "        for i in range(len(lst)-1,-1,-1):\n",
    "            if i == len(lst)-1:\n",
    "                globals()[\"node\" + str(i)] = ListNode(lst[i])\n",
    "            else:\n",
    "                globals()[\"node\" + str(i)] = ListNode(lst[i])\n",
    "                globals()[\"node\" + str(i)].next = globals()[\"node\" + str(i+1)]\n",
    "        return node0\n",
    "    else:\n",
    "        return None"
   ]
  },
  {
   "cell_type": "code",
   "execution_count": 35,
   "metadata": {},
   "outputs": [
    {
     "name": "stdout",
     "output_type": "stream",
     "text": [
      "3\n",
      "5\n",
      "2\n"
     ]
    }
   ],
   "source": [
    "linked_list = convert_to_linked([3,5,2])\n",
    "print(linked_list.val)\n",
    "print(linked_list.next.val)\n",
    "print(linked_list.next.next.val)"
   ]
  },
  {
   "cell_type": "code",
   "execution_count": null,
   "metadata": {},
   "outputs": [],
   "source": []
  },
  {
   "cell_type": "code",
   "execution_count": 338,
   "metadata": {},
   "outputs": [],
   "source": [
    "class SingleLinkedList:\n",
    "    def __init__(self): \n",
    "        self.node = None\n",
    "        \n",
    "        return    \n",
    "    \n",
    "    def add_list_item(self, item):\n",
    "        # make sure item is a proper node  \n",
    "        if not isinstance(item, ListNode):\n",
    "            item = ListNode(item)\n",
    "\n",
    "        if self.node is None:\n",
    "            self.node = item\n",
    "            return\n",
    "        \n",
    "        n = self.node\n",
    "        while n.next is not None:\n",
    "            n = n.next\n",
    "        \n",
    "        n.next = item\n",
    "        \n"
   ]
  },
  {
   "cell_type": "code",
   "execution_count": 339,
   "metadata": {},
   "outputs": [],
   "source": [
    "list1 = SingleLinkedList()"
   ]
  },
  {
   "cell_type": "code",
   "execution_count": 340,
   "metadata": {},
   "outputs": [],
   "source": [
    "list1.add_list_item(12)"
   ]
  },
  {
   "cell_type": "code",
   "execution_count": 341,
   "metadata": {},
   "outputs": [],
   "source": [
    "list1.add_list_item(20)"
   ]
  },
  {
   "cell_type": "code",
   "execution_count": 342,
   "metadata": {},
   "outputs": [],
   "source": [
    "list1.add_list_item(15)"
   ]
  },
  {
   "cell_type": "code",
   "execution_count": 343,
   "metadata": {},
   "outputs": [],
   "source": [
    "list1.add_list_item(100)"
   ]
  },
  {
   "cell_type": "code",
   "execution_count": 344,
   "metadata": {},
   "outputs": [
    {
     "name": "stdout",
     "output_type": "stream",
     "text": [
      "12\n",
      "20\n",
      "15\n",
      "100\n"
     ]
    }
   ],
   "source": [
    "print(list1.node.val)\n",
    "print(list1.node.next.val)\n",
    "print(list1.node.next.next.val)\n",
    "print(list1.node.next.next.next.val)"
   ]
  },
  {
   "cell_type": "code",
   "execution_count": null,
   "metadata": {},
   "outputs": [],
   "source": []
  }
 ],
 "metadata": {
  "kernelspec": {
   "display_name": "Python 3",
   "language": "python",
   "name": "python3"
  },
  "language_info": {
   "codemirror_mode": {
    "name": "ipython",
    "version": 3
   },
   "file_extension": ".py",
   "mimetype": "text/x-python",
   "name": "python",
   "nbconvert_exporter": "python",
   "pygments_lexer": "ipython3",
   "version": "3.7.3"
  }
 },
 "nbformat": 4,
 "nbformat_minor": 2
}
