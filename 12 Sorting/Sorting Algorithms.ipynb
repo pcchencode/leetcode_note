{
 "cells": [
  {
   "cell_type": "markdown",
   "metadata": {},
   "source": [
    "# Selection Sort\n",
    "selection sort的邏輯是：從數列的第一個開始為子數列、慢慢從子數列中尋找最小值，並把最小值swap至子數列的第一位，接著從下一個當作子數列開頭、再次尋找子數列中的最小值swap到子數列第一個。\n",
    "因此演算法中，需要先寫出一個findMinPos的函數，此函數可以在子數列找到原本數列最小值的位置。"
   ]
  },
  {
   "cell_type": "code",
   "execution_count": 1,
   "metadata": {},
   "outputs": [
    {
     "name": "stdout",
     "output_type": "stream",
     "text": [
      "[5, 6, 7, 11, 12, 13]\n"
     ]
    }
   ],
   "source": [
    "### Selection Sort:要另外寫一個 find_min_position函數\n",
    "arr = [ 12, 11, 13, 5, 6, 7]\n",
    "\n",
    "def swap(a,i,j):\n",
    "    tmp=a[i]\n",
    "    a[i]=a[j]\n",
    "    a[j]=tmp\n",
    "    return a\n",
    "\n",
    "def findminpos(x,front,end):\n",
    "    idx=front\n",
    "    for i in range(front,end+1):\n",
    "        if x[i]<x[idx]:\n",
    "            idx=i\n",
    "    return idx\n",
    "\n",
    "#print(findminpos(arr,1,3))\n",
    "#print(swap(arr,0,3))\n",
    "\n",
    "def selectionsort(x):\n",
    "    for i in range(0,len(x)):\n",
    "        if i!=findminpos(x,i,len(x)-1):\n",
    "            \n",
    "            swap(x,i,findminpos(x,i,len(x)-1))\n",
    "    return x\n",
    "\n",
    "print(selectionsort(arr))"
   ]
  },
  {
   "cell_type": "markdown",
   "metadata": {},
   "source": [
    "# Bubble Sort\n",
    "從數列的最右邊開始當作子數列、並從子數列最左邊開始比較，把最大值swap到子數列的最右邊。因此最大值會依序像氣泡一樣浮到子數列最右邊。"
   ]
  },
  {
   "cell_type": "code",
   "execution_count": 13,
   "metadata": {},
   "outputs": [
    {
     "name": "stdout",
     "output_type": "stream",
     "text": [
      "[5, 6, 7, 9, 10, 11, 12, 13]\n"
     ]
    }
   ],
   "source": [
    "### Bubble Sort\n",
    "arr = [ 12, 11, 13, 5, 6, 7,10,9]\n",
    "\n",
    "def swap(a,i,j):\n",
    "    tmp=a[i]\n",
    "    a[i]=a[j]\n",
    "    a[j]=tmp\n",
    "    return a\n",
    "\n",
    "def bubblesort(x):\n",
    "    for i in range(len(x)-1,-1,-1):\n",
    "        for j in range(0,i):\n",
    "            if x[j]>x[j+1]:\n",
    "                swap(x,j,j+1)\n",
    "    return x\n",
    "\n",
    "print(bubblesort(arr))"
   ]
  },
  {
   "cell_type": "markdown",
   "metadata": {},
   "source": [
    "# Insertion Sort\n",
    "棒棒先從第一格插入、在棒棒前面（左邊）的子數列中，從子數列的最右邊（棒棒的地方）把最小值swap到子數列最左邊。\n",
    "因此邏輯操作上是 反向-bubblesort ，最小值會慢慢沉到數列的最左邊"
   ]
  },
  {
   "cell_type": "code",
   "execution_count": 2,
   "metadata": {},
   "outputs": [
    {
     "name": "stdout",
     "output_type": "stream",
     "text": [
      "[5, 6, 7, 11, 12, 13]\n"
     ]
    }
   ],
   "source": [
    "### Insertion Sort\n",
    "arr = [ 12, 11, 13, 5, 6, 7]\n",
    "\n",
    "def swap(a,i,j):\n",
    "    tmp=a[i]\n",
    "    a[i]=a[j]\n",
    "    a[j]=tmp\n",
    "    return a\n",
    "\n",
    "def insertionsort(x):\n",
    "    i=0\n",
    "    while i<=len(x)-1:\n",
    "        for j in range(i,0,-1):\n",
    "            if x[j]<x[j-1]:\n",
    "                swap(x,j,j-1)\n",
    "        i=i+1\n",
    "    return x\n",
    "\n",
    "print(insertionsort(arr))"
   ]
  },
  {
   "cell_type": "markdown",
   "metadata": {},
   "source": [
    "# Quick Sort"
   ]
  },
  {
   "cell_type": "code",
   "execution_count": 15,
   "metadata": {},
   "outputs": [
    {
     "name": "stdout",
     "output_type": "stream",
     "text": [
      "[5, 6, 7, 8, 10, 11, 12, 13, 87]\n"
     ]
    }
   ],
   "source": [
    "## Quick sort\n",
    "#arr = [ 39,11,48,5,77,18,70,25,55,33]\n",
    "arr=[12, 11, 13, 5, 6, 7,8,10,87]\n",
    "def swap(a,i,j):\n",
    "    tmp=a[i]\n",
    "    a[i]=a[j]\n",
    "    a[j]=tmp\n",
    "    return a\n",
    "\n",
    "def partition(x,front,end):\n",
    "    pivot=x[front]\n",
    "    wall=end\n",
    "    for i in range(end,front,-1):\n",
    "        if x[i]>pivot:\n",
    "            swap(x,i,wall)\n",
    "            wall=wall-1\n",
    "    swap(x,front,wall)\n",
    "    return x,wall\n",
    "\n",
    "def sorting(x,front,end):\n",
    "    if front<end:\n",
    "        pivot_idx=partition(x,front,end)[1]\n",
    "        sorting(x,front,pivot_idx-1)\n",
    "        sorting(x,pivot_idx+1,end)\n",
    "    return x\n",
    "    \n",
    "def quicksort(x): # 因為遞迴的部分佔了code中的子部分，無法將整個quicksort寫在同一個遞迴式裡頭，初始值會被重置。\n",
    "    front=0\n",
    "    end=len(x)-1\n",
    "    sorting(x,front,end)\n",
    "    return x\n",
    "        \n",
    "\n",
    "print(quicksort(arr))"
   ]
  },
  {
   "cell_type": "markdown",
   "metadata": {},
   "source": [
    "# Merge Sort"
   ]
  },
  {
   "cell_type": "code",
   "execution_count": 1,
   "metadata": {},
   "outputs": [
    {
     "name": "stdout",
     "output_type": "stream",
     "text": [
      "[5, 6, 7, 10, 11, 12, 13]\n"
     ]
    }
   ],
   "source": [
    "### MergeSort\n",
    "import numpy as np\n",
    "\n",
    "#arr=[1,24,26,15,13,2,27,38,87,30,32,100]\n",
    "#arr=[39,11,48,5,77,18,70,25,55,33]\n",
    "arr=[12, 11, 13, 5, 6, 7,10]\n",
    "\n",
    "# partition函數：把原始數列切成一半、形成兩個子數列\n",
    "def partition(x,front,end):\n",
    "    end=end+1\n",
    "    tmp=[]\n",
    "    for i in range(front,end):\n",
    "        tmp.append(x[i])\n",
    "    a1=[]\n",
    "    a2=[]\n",
    "    if len(tmp)%2==0:\n",
    "        mid=int(len(tmp)/2)\n",
    "        for i in range(0,mid):\n",
    "            a1.append(tmp[i])\n",
    "        for i in range(mid,len(tmp)):\n",
    "            a2.append(tmp[i])\n",
    "    elif len(tmp)%2!=0:\n",
    "        mid=int((len(tmp)-1)/2)\n",
    "        for i in range(0,mid):\n",
    "            a1.append(tmp[i])\n",
    "        for i in range(mid,len(tmp)):\n",
    "            a2.append(tmp[i])  \n",
    "    return a1, a2\n",
    "\n",
    "# merge函數：把兩個數列做mergesort\n",
    "def merge(a1,a2):\n",
    "    result=[]\n",
    "    i=0\n",
    "    j=0\n",
    "    while i<=len(a1)-1 and j<=len(a2)-1:\n",
    "        if a1[i]<a2[j]:\n",
    "            result.append(a1[i])\n",
    "            i=i+1    \n",
    "        elif a1[i]>a2[j]:\n",
    "            result.append(a2[j])\n",
    "            j=j+1\n",
    "    while i==len(a1) and j<=len(a2)-1:\n",
    "        result.append(a2[j])\n",
    "        j=j+1\n",
    "    while j==len(a2) and i<=len(a1)-1:\n",
    "        result.append(a1[i])\n",
    "        i=i+1\n",
    "    return result\n",
    "\n",
    "# mergesort遞迴條件：只要合併完之子數列長度不是1，就代表還有子數列，因此繼續進行合併。\n",
    "def mergesort(x):\n",
    "    result=[]\n",
    "    part=[]\n",
    "    if len(x)%2==0:\n",
    "        for i in range(0,len(x),2):\n",
    "            part.append(partition(x,i,i+1)[0])\n",
    "            part.append(partition(x,i,i+1)[1])\n",
    "        for j in range(0,len(part),2):\n",
    "            result.append(merge(part[j],part[j+1]))\n",
    "        while len(result)!=1:\n",
    "            Result=[]\n",
    "            if len(result)%2==0:\n",
    "                for k in range(0,len(result),2):\n",
    "                    Result.append(merge(result[k],result[k+1]))\n",
    "            elif len(result)%2!=0:\n",
    "                for n in range(0,len(result)-1,2):\n",
    "                    Result.append(merge(result[n],result[n+1]))\n",
    "                Result.append(result[len(result)-1])\n",
    "            result=Result\n",
    "                \n",
    "    if len(x)%2!=0:\n",
    "        for i in range(0,len(x)-2,2):\n",
    "            part.append(partition(x,i,i+1)[0])\n",
    "            part.append(partition(x,i,i+1)[1])\n",
    "        part.append(partition(x,len(x)-1,len(x)-1)[1])\n",
    "        for j in range(0,len(part)-2,2):\n",
    "            result.append(merge(part[j],part[j+1]))\n",
    "        result.append(part[len(part)-1])    \n",
    "        while len(result)!=1:\n",
    "            Result=[]\n",
    "            if len(result)%2==0:\n",
    "                for k in range(0,len(result),2):\n",
    "                    Result.append(merge(result[k],result[k+1]))\n",
    "            elif len(result)%2!=0:\n",
    "                for n in range(0,len(result)-1,2):\n",
    "                    Result.append(merge(result[n],result[n+1]))\n",
    "                Result.append(result[len(result)-1])\n",
    "            result=Result\n",
    "    return result\n",
    "\n",
    "print(mergesort(arr)[0])"
   ]
  },
  {
   "cell_type": "markdown",
   "metadata": {},
   "source": [
    "# Heap Sort"
   ]
  },
  {
   "cell_type": "code",
   "execution_count": 4,
   "metadata": {},
   "outputs": [
    {
     "name": "stdout",
     "output_type": "stream",
     "text": [
      "[5, 6, 7, 8, 10, 11, 12, 13, 87]\n"
     ]
    }
   ],
   "source": [
    "### Heap Sort\n",
    "def swap(a,i,j):\n",
    "    tmp=a[i]\n",
    "    a[i]=a[j]\n",
    "    a[j]=tmp\n",
    "    return a\n",
    "\n",
    "def heapify(arr, n, i):\n",
    "    # Find largest among root and children\n",
    "    largest = i\n",
    "    l = 2 * i + 1\n",
    "    r = 2 * i + 2 \n",
    " \n",
    "    if l < n and arr[i] < arr[l]:\n",
    "        largest = l\n",
    " \n",
    "    if r < n and arr[largest] < arr[r]:\n",
    "        largest = r\n",
    " \n",
    "    # If root is not largest, swap with largest and continue heapifying\n",
    "    # continu heapifying指的就是持續sift down的動作\n",
    "    if largest != i:\n",
    "        swap(arr,i,largest)\n",
    "        #arr[i],arr[largest] = arr[largest],arr[i]\n",
    "        heapify(arr, n, largest)\n",
    "\n",
    "\n",
    "def heapSort(arr):\n",
    "    n = len(arr)\n",
    " \n",
    "    # Build max heap:從first index of non-leaf node(即第一個subtree之root)開始, gradually heapify\n",
    "    # Index of first-non-leaf node is (n/2 - 1)\n",
    "    for i in range(int(n/2-1), -1, -1):\n",
    "        heapify(arr, n, i)\n",
    " \n",
    "    # 現在已是 Max-heap，要做的事情很簡單：\n",
    "    # 1.root與最後一個進行對調 \n",
    "    # 2.排除最後一個(已是最大值)，剩下的數列進行heapify\n",
    "    for i in range(n-1, 0, -1):\n",
    "        swap(arr,i,0)\n",
    "        \n",
    "        #heapify root element\n",
    "        heapify(arr, i, 0) #剩下數列的heapify都從root開始做起\n",
    "    return arr\n",
    "\n",
    "\n",
    "# 所以整個heapsort的概念就是：透過heapify函數造出Max-Heap，再把Max-Heap透過swap and heapify置換出排序後的數列\n",
    "# 顧名思義，Heap Sort的核心為 heapify函數，而要製造出heapify function之前，需要對heap-tree的資料結構有所瞭解(array index)\n",
    "arr = [ 12, 11, 13, 5, 6, 7,8,10,87]\n",
    "print(heapSort(arr))"
   ]
  },
  {
   "cell_type": "code",
   "execution_count": null,
   "metadata": {
    "collapsed": true
   },
   "outputs": [],
   "source": []
  }
 ],
 "metadata": {
  "kernelspec": {
   "display_name": "Python 3",
   "language": "python",
   "name": "python3"
  },
  "language_info": {
   "codemirror_mode": {
    "name": "ipython",
    "version": 3
   },
   "file_extension": ".py",
   "mimetype": "text/x-python",
   "name": "python",
   "nbconvert_exporter": "python",
   "pygments_lexer": "ipython3",
   "version": "3.6.2"
  }
 },
 "nbformat": 4,
 "nbformat_minor": 2
}
