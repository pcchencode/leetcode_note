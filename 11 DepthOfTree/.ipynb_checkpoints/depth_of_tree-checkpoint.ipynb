{
 "cells": [
  {
   "cell_type": "code",
   "execution_count": 1,
   "metadata": {
    "ExecuteTime": {
     "end_time": "2021-01-19T11:04:36.065796Z",
     "start_time": "2021-01-19T11:04:36.060349Z"
    }
   },
   "outputs": [],
   "source": [
    "import os\n",
    "import queue\n",
    "\n",
    "# Definition for a binary tree node.\n",
    "class TreeNode:\n",
    "    def __init__(self, val=0, left=None, right=None):\n",
    "        self.val = val\n",
    "        self.left = left\n",
    "        self.right = right"
   ]
  },
  {
   "cell_type": "code",
   "execution_count": 2,
   "metadata": {
    "ExecuteTime": {
     "end_time": "2021-01-19T11:05:43.694583Z",
     "start_time": "2021-01-19T11:05:43.687956Z"
    }
   },
   "outputs": [],
   "source": [
    "c1l = None\n",
    "c1r = None\n",
    "c2l = TreeNode(15)\n",
    "c2r = TreeNode(7)\n",
    "c1 = TreeNode(val=9, left=c1l, right=c1r)\n",
    "c2 = TreeNode(val=20, left=c2l, right=c2r)\n",
    "r1 = TreeNode(val=3, left=c1, right=c2)"
   ]
  },
  {
   "cell_type": "code",
   "execution_count": 3,
   "metadata": {
    "ExecuteTime": {
     "end_time": "2021-01-19T11:05:52.749839Z",
     "start_time": "2021-01-19T11:05:52.744587Z"
    }
   },
   "outputs": [],
   "source": [
    "c1l = TreeNode(4)\n",
    "c1r = None\n",
    "c2l = None\n",
    "c2r = TreeNode(5)\n",
    "c1 = TreeNode(val=2, left=c1l, right=c1r)\n",
    "c2 = TreeNode(val=3, left=c2l, right=c2r)\n",
    "r2 = TreeNode(val=1, left=c1, right=c2)"
   ]
  },
  {
   "cell_type": "code",
   "execution_count": 4,
   "metadata": {
    "ExecuteTime": {
     "end_time": "2021-01-19T11:05:58.690701Z",
     "start_time": "2021-01-19T11:05:58.685058Z"
    }
   },
   "outputs": [],
   "source": [
    "c1l = TreeNode(4)\n",
    "c1r = TreeNode(5)\n",
    "c2l = None\n",
    "c2r = None\n",
    "c1 = TreeNode(val=2, left=c1l, right=c1r)\n",
    "c2 = TreeNode(val=3, left=c2l, right=c2r)\n",
    "r3 = TreeNode(val=1, left=c1, right=c2)"
   ]
  },
  {
   "cell_type": "code",
   "execution_count": 5,
   "metadata": {
    "ExecuteTime": {
     "end_time": "2021-01-19T11:06:05.160694Z",
     "start_time": "2021-01-19T11:06:05.153317Z"
    }
   },
   "outputs": [],
   "source": [
    "c1l = None\n",
    "c1r = None\n",
    "c2l = None\n",
    "c2r = TreeNode(val=4, left=None, right=5)\n",
    "c1 = None\n",
    "c2 = TreeNode(val=3, left=c2l, right=c2r)\n",
    "r4 = TreeNode(val=2, left=c1, right=c2)"
   ]
  },
  {
   "cell_type": "markdown",
   "metadata": {},
   "source": [
    "## 演算法邏輯\n",
    "1. 首先定義一個 `depth(root)` 函式，我們預計使用「遞迴」的方式\n",
    "2. 定義函式中 base result:\n",
    "    * 若為空節點，直接 return 0\n",
    "    * 若左、右皆無子樹，直接 return 1\n",
    "    * 若只有左子樹，return `depth(root.left) + 1`\n",
    "    * 若只有右子樹，return `depth(root.left) + 1`\n",
    "3. 考量 special case: 若節點左、右都有子樹？我該往哪裡鑽？而且只能return一個值\n",
    "    * Ans: 小孩子才做選擇，我兩個都要鑽，但怎麼把return的結果變成一個值\n",
    "    * Ans2: 把兩邊 depth(root.left), depth(roof.right) 取min, 再+1 即可完成\n",
    "\n",
    "\n",
    "[<img src=\"note.jpg\"/>](note.jpg)"
   ]
  },
  {
   "cell_type": "code",
   "execution_count": 6,
   "metadata": {},
   "outputs": [],
   "source": [
    "def depth(root):\n",
    "    if root is None:\n",
    "        return 0\n",
    "    \n",
    "    if root.right is None and root.left is None:\n",
    "        return 1\n",
    "    \n",
    "    elif root.left is None and root.right != None:\n",
    "        return depth(root.right)+1\n",
    "    \n",
    "    elif root.right is None and root.left != None:\n",
    "        return depth(root.left)+1\n",
    "    \n",
    "    # 如果左右都有subtree，這時該往哪裡鑽？\n",
    "    # Ans: 兩邊都鑽，但是 return 的值要取一個 min 後，才+1\n",
    "    else:\n",
    "        return min(depth(root.left), depth(root.right)) + 1"
   ]
  },
  {
   "cell_type": "code",
   "execution_count": 7,
   "metadata": {},
   "outputs": [
    {
     "data": {
      "text/plain": [
       "2"
      ]
     },
     "execution_count": 7,
     "metadata": {},
     "output_type": "execute_result"
    }
   ],
   "source": [
    "depth(r3)"
   ]
  },
  {
   "cell_type": "code",
   "execution_count": null,
   "metadata": {},
   "outputs": [],
   "source": []
  }
 ],
 "metadata": {
  "kernelspec": {
   "display_name": "Python 3",
   "language": "python",
   "name": "python3"
  },
  "language_info": {
   "codemirror_mode": {
    "name": "ipython",
    "version": 3
   },
   "file_extension": ".py",
   "mimetype": "text/x-python",
   "name": "python",
   "nbconvert_exporter": "python",
   "pygments_lexer": "ipython3",
   "version": "3.7.4"
  }
 },
 "nbformat": 4,
 "nbformat_minor": 4
}
