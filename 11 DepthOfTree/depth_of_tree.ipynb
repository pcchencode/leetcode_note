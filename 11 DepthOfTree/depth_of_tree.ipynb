{
 "cells": [
  {
   "cell_type": "code",
   "execution_count": 1,
   "metadata": {
    "ExecuteTime": {
     "end_time": "2021-01-19T11:04:36.065796Z",
     "start_time": "2021-01-19T11:04:36.060349Z"
    }
   },
   "outputs": [],
   "source": [
    "import os\n",
    "import queue\n",
    "\n",
    "# Definition for a binary tree node.\n",
    "class TreeNode:\n",
    "    def __init__(self, val=0, left=None, right=None):\n",
    "        self.val = val\n",
    "        self.left = left\n",
    "        self.right = right"
   ]
  },
  {
   "cell_type": "code",
   "execution_count": 2,
   "metadata": {
    "ExecuteTime": {
     "end_time": "2021-01-19T11:05:43.694583Z",
     "start_time": "2021-01-19T11:05:43.687956Z"
    }
   },
   "outputs": [],
   "source": [
    "c1l = None\n",
    "c1r = None\n",
    "c2l = TreeNode(15)\n",
    "c2r = TreeNode(7)\n",
    "c1 = TreeNode(val=9, left=c1l, right=c1r)\n",
    "c2 = TreeNode(val=20, left=c2l, right=c2r)\n",
    "r1 = TreeNode(val=3, left=c1, right=c2)"
   ]
  },
  {
   "cell_type": "code",
   "execution_count": 3,
   "metadata": {
    "ExecuteTime": {
     "end_time": "2021-01-19T11:05:52.749839Z",
     "start_time": "2021-01-19T11:05:52.744587Z"
    }
   },
   "outputs": [],
   "source": [
    "c1l = TreeNode(4)\n",
    "c1r = None\n",
    "c2l = None\n",
    "c2r = TreeNode(5)\n",
    "c1 = TreeNode(val=2, left=c1l, right=c1r)\n",
    "c2 = TreeNode(val=3, left=c2l, right=c2r)\n",
    "r2 = TreeNode(val=1, left=c1, right=c2)"
   ]
  },
  {
   "cell_type": "code",
   "execution_count": 4,
   "metadata": {
    "ExecuteTime": {
     "end_time": "2021-01-19T11:05:58.690701Z",
     "start_time": "2021-01-19T11:05:58.685058Z"
    }
   },
   "outputs": [],
   "source": [
    "c1l = TreeNode(4)\n",
    "c1r = TreeNode(5)\n",
    "c2l = None\n",
    "c2r = None\n",
    "c1 = TreeNode(val=2, left=c1l, right=c1r)\n",
    "c2 = TreeNode(val=3, left=c2l, right=c2r)\n",
    "r3 = TreeNode(val=1, left=c1, right=c2)"
   ]
  },
  {
   "cell_type": "code",
   "execution_count": 5,
   "metadata": {
    "ExecuteTime": {
     "end_time": "2021-01-19T11:06:05.160694Z",
     "start_time": "2021-01-19T11:06:05.153317Z"
    }
   },
   "outputs": [],
   "source": [
    "c1l = None\n",
    "c1r = None\n",
    "c2l = None\n",
    "c2r = TreeNode(val=4, left=None, right=5)\n",
    "c1 = None\n",
    "c2 = TreeNode(val=3, left=c2l, right=c2r)\n",
    "r4 = TreeNode(val=2, left=c1, right=c2)"
   ]
  },
  {
   "cell_type": "markdown",
   "metadata": {},
   "source": [
    "## 演算法邏輯\n"
   ]
  },
  {
   "cell_type": "code",
   "execution_count": null,
   "metadata": {},
   "outputs": [],
   "source": []
  }
 ],
 "metadata": {
  "kernelspec": {
   "display_name": "Python 3",
   "language": "python",
   "name": "python3"
  },
  "language_info": {
   "codemirror_mode": {
    "name": "ipython",
    "version": 3
   },
   "file_extension": ".py",
   "mimetype": "text/x-python",
   "name": "python",
   "nbconvert_exporter": "python",
   "pygments_lexer": "ipython3",
   "version": "3.7.6"
  }
 },
 "nbformat": 4,
 "nbformat_minor": 4
}
