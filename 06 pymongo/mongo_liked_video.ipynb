{
 "cells": [
  {
   "cell_type": "code",
   "execution_count": 1,
   "metadata": {},
   "outputs": [],
   "source": [
    "import pandas as pd\n",
    "from sshtunnel import SSHTunnelForwarder\n",
    "import pymongo"
   ]
  },
  {
   "cell_type": "code",
   "execution_count": 2,
   "metadata": {},
   "outputs": [],
   "source": [
    "# 連到本地端 mongo\n",
    "client = pymongo.MongoClient(host='mongodb://localhost:27017/', port=27017)"
   ]
  },
  {
   "cell_type": "code",
   "execution_count": 3,
   "metadata": {},
   "outputs": [
    {
     "data": {
      "text/plain": [
       "{'version': '4.2.6',\n",
       " 'gitVersion': '20364840b8f1af16917e4c23c1b5f5efd8b352f8',\n",
       " 'modules': [],\n",
       " 'allocator': 'system',\n",
       " 'javascriptEngine': 'mozjs',\n",
       " 'sysInfo': 'deprecated',\n",
       " 'versionArray': [4, 2, 6, 0],\n",
       " 'openssl': {'running': 'Apple Secure Transport'},\n",
       " 'buildEnvironment': {'distmod': '',\n",
       "  'distarch': 'x86_64',\n",
       "  'cc': '/Applications/Xcode10.2.0.app/Contents/Developer/Toolchains/XcodeDefault.xctoolchain/usr/bin/clang: Apple LLVM version 10.0.1 (clang-1001.0.46.3)',\n",
       "  'ccflags': '-isysroot /Applications/Xcode10.2.0.app/Contents/Developer/Platforms/MacOSX.platform/Developer/SDKs/MacOSX10.14.sdk -mmacosx-version-min=10.12 -target darwin16.0.0 -arch x86_64 -fno-omit-frame-pointer -fno-strict-aliasing -ggdb -pthread -Wall -Wsign-compare -Wno-unknown-pragmas -Winvalid-pch -Werror -O2 -Wno-unused-local-typedefs -Wno-unused-function -Wno-unused-private-field -Wno-deprecated-declarations -Wno-tautological-constant-out-of-range-compare -Wno-tautological-constant-compare -Wno-tautological-unsigned-zero-compare -Wno-tautological-unsigned-enum-zero-compare -Wno-unused-const-variable -Wno-missing-braces -Wno-inconsistent-missing-override -Wno-potentially-evaluated-expression -Wno-unused-lambda-capture -Wno-exceptions -Wunguarded-availability -fstack-protector-strong -fno-builtin-memcmp',\n",
       "  'cxx': '/Applications/Xcode10.2.0.app/Contents/Developer/Toolchains/XcodeDefault.xctoolchain/usr/bin/clang++: Apple LLVM version 10.0.1 (clang-1001.0.46.3)',\n",
       "  'cxxflags': '-Woverloaded-virtual -Werror=unused-result -Wpessimizing-move -Wredundant-move -Wno-undefined-var-template -Wno-instantiation-after-specialization -fsized-deallocation -stdlib=libc++ -std=c++17',\n",
       "  'linkflags': '-Wl,-syslibroot,/Applications/Xcode10.2.0.app/Contents/Developer/Platforms/MacOSX.platform/Developer/SDKs/MacOSX10.14.sdk -mmacosx-version-min=10.12 -target darwin16.0.0 -arch x86_64 -Wl,-bind_at_load -Wl,-fatal_warnings -fstack-protector-strong -stdlib=libc++',\n",
       "  'target_arch': 'x86_64',\n",
       "  'target_os': 'macOS'},\n",
       " 'bits': 64,\n",
       " 'debug': False,\n",
       " 'maxBsonObjectSize': 16777216,\n",
       " 'storageEngines': ['biggie', 'devnull', 'ephemeralForTest', 'wiredTiger'],\n",
       " 'ok': 1.0}"
      ]
     },
     "execution_count": 3,
     "metadata": {},
     "output_type": "execute_result"
    }
   ],
   "source": [
    "# 沒有跳出 timeouterror 代表有連線成功\n",
    "client.server_info()"
   ]
  },
  {
   "cell_type": "code",
   "execution_count": 4,
   "metadata": {},
   "outputs": [],
   "source": [
    "# 擷取 database\n",
    "database = client['test']"
   ]
  },
  {
   "cell_type": "code",
   "execution_count": 5,
   "metadata": {},
   "outputs": [],
   "source": [
    "# 擷取 collections(table)\n",
    "collection = database['col_test']"
   ]
  },
  {
   "cell_type": "code",
   "execution_count": 6,
   "metadata": {
    "scrolled": true
   },
   "outputs": [
    {
     "data": {
      "text/plain": [
       "Collection(Database(MongoClient(host=['localhost:27017'], document_class=dict, tz_aware=False, connect=True), 'test'), 'col_test')"
      ]
     },
     "execution_count": 6,
     "metadata": {},
     "output_type": "execute_result"
    }
   ],
   "source": [
    "collection"
   ]
  },
  {
   "cell_type": "code",
   "execution_count": 7,
   "metadata": {},
   "outputs": [
    {
     "name": "stderr",
     "output_type": "stream",
     "text": [
      "/opt/anaconda3/lib/python3.7/site-packages/ipykernel_launcher.py:2: DeprecationWarning: remove is deprecated. Use delete_one or delete_many instead.\n",
      "  \n",
      "/opt/anaconda3/lib/python3.7/site-packages/ipykernel_launcher.py:10: DeprecationWarning: insert is deprecated. Use insert_one or insert_many instead.\n",
      "  # Remove the CWD from sys.path while we load stuff.\n"
     ]
    },
    {
     "data": {
      "text/plain": [
       "[ObjectId('5ec2571ca4be69b622701185'),\n",
       " ObjectId('5ec2571ca4be69b622701186'),\n",
       " ObjectId('5ec2571ca4be69b622701187'),\n",
       " ObjectId('5ec2571ca4be69b622701188'),\n",
       " ObjectId('5ec2571ca4be69b622701189')]"
      ]
     },
     "execution_count": 7,
     "metadata": {},
     "output_type": "execute_result"
    }
   ],
   "source": [
    "# truncate collection(table)\n",
    "collection.remove()\n",
    "\n",
    "# 插入資料\n",
    "doc1 = {\"name\":\"Lucy\", \"sex\":\"female\",\"job\":\"nurse\", \"salary\":50}\n",
    "doc2 = {\"name\":\"Jerry\", \"sex\":\"male\",\"job\":\"doctor\", \"salary\":100}\n",
    "doc3 = {\"name\":\"Wendell\", \"sex\":\"male\",\"job\":\"Engineer\", \"salary\":200}\n",
    "doc4 = {\"name\":\"Damon\", \"sex\":\"male\",\"job\":\"Engineer\", \"salary\":150}\n",
    "doc5 = {\"name\":\"Anne\", \"sex\":\"female\",\"job\":\"art\", \"salary\":120}\n",
    "collection.insert([doc1, doc2, doc3, doc4, doc5])"
   ]
  },
  {
   "cell_type": "code",
   "execution_count": 8,
   "metadata": {},
   "outputs": [],
   "source": [
    "# 這個 find() 只會返還一個 cursor, 必須用 for loop 把資料都取出來。g\n",
    "data = collection.find() # 會返回一個 cursor"
   ]
  },
  {
   "cell_type": "code",
   "execution_count": 9,
   "metadata": {},
   "outputs": [
    {
     "name": "stdout",
     "output_type": "stream",
     "text": [
      "{'_id': ObjectId('5ec2571ca4be69b622701185'), 'name': 'Lucy', 'sex': 'female', 'job': 'nurse', 'salary': 50}\n",
      "{'_id': ObjectId('5ec2571ca4be69b622701186'), 'name': 'Jerry', 'sex': 'male', 'job': 'doctor', 'salary': 100}\n",
      "{'_id': ObjectId('5ec2571ca4be69b622701187'), 'name': 'Wendell', 'sex': 'male', 'job': 'Engineer', 'salary': 200}\n",
      "{'_id': ObjectId('5ec2571ca4be69b622701188'), 'name': 'Damon', 'sex': 'male', 'job': 'Engineer', 'salary': 150}\n",
      "{'_id': ObjectId('5ec2571ca4be69b622701189'), 'name': 'Anne', 'sex': 'female', 'job': 'art', 'salary': 120}\n"
     ]
    }
   ],
   "source": [
    "for d in data:\n",
    "    print(d)"
   ]
  },
  {
   "cell_type": "code",
   "execution_count": 10,
   "metadata": {},
   "outputs": [
    {
     "name": "stdout",
     "output_type": "stream",
     "text": [
      "{'_id': ObjectId('5ec2571ca4be69b622701186'), 'name': 'Jerry', 'sex': 'male', 'job': 'doctor', 'salary': 100}\n"
     ]
    }
   ],
   "source": [
    "# 查找特定值\n",
    "data = collection.find({\"name\":\"Jerry\"})\n",
    "for d in data:\n",
    "    print(d)"
   ]
  },
  {
   "cell_type": "code",
   "execution_count": 11,
   "metadata": {},
   "outputs": [
    {
     "name": "stdout",
     "output_type": "stream",
     "text": [
      "{'_id': ObjectId('5ec2571ca4be69b622701189'), 'name': 'Anne', 'sex': 'female', 'job': 'art', 'salary': 120}\n"
     ]
    }
   ],
   "source": [
    "# select * from collection where sex=female and salary>100\n",
    "data = collection.find({'$and':[\n",
    "            {'sex': 'female'},\n",
    "            {'salary': {'$gt':100}} # gt for greater than; gte for greater than & equal to\n",
    "            ]\n",
    "        })\n",
    "for d in data:\n",
    "    print(d)"
   ]
  },
  {
   "cell_type": "code",
   "execution_count": 12,
   "metadata": {},
   "outputs": [
    {
     "name": "stdout",
     "output_type": "stream",
     "text": [
      "{'_id': ObjectId('5ec2571ca4be69b622701186'), 'name': 'Jerry', 'sex': 'male', 'job': 'doctor', 'salary': 100}\n",
      "{'_id': ObjectId('5ec2571ca4be69b622701187'), 'name': 'Wendell', 'sex': 'male', 'job': 'Engineer', 'salary': 200}\n"
     ]
    }
   ],
   "source": [
    "# 限制查詢個數\n",
    "data = collection.find({\"sex\":\"male\"}).limit(2)\n",
    "for d in data:\n",
    "    print(d)"
   ]
  },
  {
   "cell_type": "code",
   "execution_count": 13,
   "metadata": {},
   "outputs": [
    {
     "name": "stdout",
     "output_type": "stream",
     "text": [
      "{'_id': ObjectId('5ec2571ca4be69b622701187'), 'name': 'Wendell', 'sex': 'male', 'job': 'Engineer', 'salary': 200}\n",
      "{'_id': ObjectId('5ec2571ca4be69b622701188'), 'name': 'Damon', 'sex': 'male', 'job': 'Engineer', 'salary': 150}\n",
      "{'_id': ObjectId('5ec2571ca4be69b622701189'), 'name': 'Anne', 'sex': 'female', 'job': 'art', 'salary': 120}\n",
      "{'_id': ObjectId('5ec2571ca4be69b622701186'), 'name': 'Jerry', 'sex': 'male', 'job': 'doctor', 'salary': 100}\n",
      "{'_id': ObjectId('5ec2571ca4be69b622701185'), 'name': 'Lucy', 'sex': 'female', 'job': 'nurse', 'salary': 50}\n"
     ]
    }
   ],
   "source": [
    "# 排序、反向排序\n",
    "data = collection.find().sort(\"salary\") # 預設為正向排序\n",
    "data = collection.find().sort(\"salary\", pymongo.ASCENDING)\n",
    "data = collection.find().sort(\"salary\", pymongo.DESCENDING)\n",
    "for d in data:\n",
    "    print(d)"
   ]
  },
  {
   "cell_type": "code",
   "execution_count": 14,
   "metadata": {},
   "outputs": [
    {
     "data": {
      "text/html": [
       "<div>\n",
       "<style scoped>\n",
       "    .dataframe tbody tr th:only-of-type {\n",
       "        vertical-align: middle;\n",
       "    }\n",
       "\n",
       "    .dataframe tbody tr th {\n",
       "        vertical-align: top;\n",
       "    }\n",
       "\n",
       "    .dataframe thead th {\n",
       "        text-align: right;\n",
       "    }\n",
       "</style>\n",
       "<table border=\"1\" class=\"dataframe\">\n",
       "  <thead>\n",
       "    <tr style=\"text-align: right;\">\n",
       "      <th></th>\n",
       "      <th>_id</th>\n",
       "      <th>name</th>\n",
       "      <th>sex</th>\n",
       "      <th>job</th>\n",
       "      <th>salary</th>\n",
       "    </tr>\n",
       "  </thead>\n",
       "  <tbody>\n",
       "    <tr>\n",
       "      <th>0</th>\n",
       "      <td>5ec2571ca4be69b622701185</td>\n",
       "      <td>Lucy</td>\n",
       "      <td>female</td>\n",
       "      <td>nurse</td>\n",
       "      <td>50</td>\n",
       "    </tr>\n",
       "    <tr>\n",
       "      <th>1</th>\n",
       "      <td>5ec2571ca4be69b622701186</td>\n",
       "      <td>Jerry</td>\n",
       "      <td>male</td>\n",
       "      <td>doctor</td>\n",
       "      <td>100</td>\n",
       "    </tr>\n",
       "    <tr>\n",
       "      <th>2</th>\n",
       "      <td>5ec2571ca4be69b622701187</td>\n",
       "      <td>Wendell</td>\n",
       "      <td>male</td>\n",
       "      <td>Engineer</td>\n",
       "      <td>200</td>\n",
       "    </tr>\n",
       "    <tr>\n",
       "      <th>3</th>\n",
       "      <td>5ec2571ca4be69b622701188</td>\n",
       "      <td>Damon</td>\n",
       "      <td>male</td>\n",
       "      <td>Engineer</td>\n",
       "      <td>150</td>\n",
       "    </tr>\n",
       "    <tr>\n",
       "      <th>4</th>\n",
       "      <td>5ec2571ca4be69b622701189</td>\n",
       "      <td>Anne</td>\n",
       "      <td>female</td>\n",
       "      <td>art</td>\n",
       "      <td>120</td>\n",
       "    </tr>\n",
       "  </tbody>\n",
       "</table>\n",
       "</div>"
      ],
      "text/plain": [
       "                        _id     name     sex       job  salary\n",
       "0  5ec2571ca4be69b622701185     Lucy  female     nurse      50\n",
       "1  5ec2571ca4be69b622701186    Jerry    male    doctor     100\n",
       "2  5ec2571ca4be69b622701187  Wendell    male  Engineer     200\n",
       "3  5ec2571ca4be69b622701188    Damon    male  Engineer     150\n",
       "4  5ec2571ca4be69b622701189     Anne  female       art     120"
      ]
     },
     "execution_count": 14,
     "metadata": {},
     "output_type": "execute_result"
    }
   ],
   "source": [
    "# 直接把 cursor 結果變成一個 list or dataframe\n",
    "data = collection.find()\n",
    "df = list(data)\n",
    "pd.DataFrame(df)"
   ]
  },
  {
   "cell_type": "code",
   "execution_count": null,
   "metadata": {},
   "outputs": [],
   "source": []
  },
  {
   "cell_type": "code",
   "execution_count": null,
   "metadata": {},
   "outputs": [],
   "source": []
  },
  {
   "cell_type": "markdown",
   "metadata": {},
   "source": [
    "***"
   ]
  },
  {
   "cell_type": "markdown",
   "metadata": {},
   "source": [
    "## Access in im_internal text env"
   ]
  },
  {
   "cell_type": "code",
   "execution_count": 16,
   "metadata": {},
   "outputs": [],
   "source": [
    "# jump.svc.imvideo.tv # 10.25.70.69\n",
    "MONGO_HOST = \"127.0.0.1\"\n",
    "# MONGO_DB = \"DATABASE_NAME\"\n",
    "MONGO_USER = \"im_data_user\"\n",
    "MONGO_PASS = \"a945dcc8510a19883a367be9b3f41c2fa81e5f9b\"\n",
    "\n",
    "server = SSHTunnelForwarder(\n",
    "    (\"jump.svc.imvideo.tv\",22),\n",
    "    ssh_username=\"jerry_chen\",\n",
    "#     ssh_password=MONGO_PASS,\n",
    "    ssh_pkey='/Users/user/.ssh/id_rsa_mongo',\n",
    "    remote_bind_address=('mongos-auth.test.intl.imvideo.tv', 27017)\n",
    ")\n",
    "\n",
    "server.start()\n",
    "\n",
    "client = pymongo.MongoClient('127.0.0.1', server.local_bind_port) # server.local_bind_port is assigned local port\n",
    "# db = client[MONGO_DB]\n",
    "# print(db.collection_names())\n",
    "\n",
    "# server.stop()"
   ]
  },
  {
   "cell_type": "code",
   "execution_count": null,
   "metadata": {},
   "outputs": [],
   "source": [
    "# 沒有跳出 timeouterror 代表有連線成功\n",
    "client.server_info()"
   ]
  },
  {
   "cell_type": "code",
   "execution_count": null,
   "metadata": {},
   "outputs": [],
   "source": [
    "# im_internal 這個 database 需要使用者、密碼做 auth\n",
    "client['im_internal'].authenticate(\"im_data_user\", \"a945dcc8510a19883a367be9b3f41c2fa81e5f9b\", mechanism='SCRAM-SHA-1')"
   ]
  },
  {
   "cell_type": "code",
   "execution_count": null,
   "metadata": {},
   "outputs": [],
   "source": [
    "db_im_internal = client['im_internal']"
   ]
  },
  {
   "cell_type": "code",
   "execution_count": null,
   "metadata": {},
   "outputs": [],
   "source": [
    "col_recording_like = db_im_internal['recording_like']"
   ]
  },
  {
   "cell_type": "code",
   "execution_count": null,
   "metadata": {},
   "outputs": [],
   "source": [
    "docs = col_recording_like.find().limit(5)"
   ]
  },
  {
   "cell_type": "code",
   "execution_count": null,
   "metadata": {},
   "outputs": [],
   "source": [
    "docs = col_recording_like.find()\n",
    "df = pd.DataFrame(list(docs))"
   ]
  },
  {
   "cell_type": "code",
   "execution_count": null,
   "metadata": {},
   "outputs": [],
   "source": [
    "df"
   ]
  },
  {
   "cell_type": "code",
   "execution_count": null,
   "metadata": {},
   "outputs": [],
   "source": []
  }
 ],
 "metadata": {
  "kernelspec": {
   "display_name": "Python 3",
   "language": "python",
   "name": "python3"
  },
  "language_info": {
   "codemirror_mode": {
    "name": "ipython",
    "version": 3
   },
   "file_extension": ".py",
   "mimetype": "text/x-python",
   "name": "python",
   "nbconvert_exporter": "python",
   "pygments_lexer": "ipython3",
   "version": "3.7.6"
  }
 },
 "nbformat": 4,
 "nbformat_minor": 4
}
