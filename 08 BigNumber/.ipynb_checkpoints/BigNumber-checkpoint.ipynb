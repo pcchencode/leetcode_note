{
 "cells": [
  {
   "cell_type": "markdown",
   "metadata": {},
   "source": [
    "# 172. Factorial Trailing Zeroes\n",
    "Given an integer n, return the number of trailing zeroes in n!.\n",
    "\n",
    "Example 1:\n",
    "\n",
    "Input: 3\n",
    "Output: 0\n",
    "Explanation: 3! = 6, no trailing zero.\n",
    "\n",
    "Example 2:\n",
    "\n",
    "Input: 5\n",
    "Output: 1\n",
    "Explanation: 5! = 120, one trailing zero.\n",
    "Note: Your solution should be in logarithmic time complexity."
   ]
  },
  {
   "cell_type": "markdown",
   "metadata": {},
   "source": [
    "### 暴力法：$O(n)$"
   ]
  },
  {
   "cell_type": "code",
   "execution_count": 3,
   "metadata": {},
   "outputs": [
    {
     "data": {
      "text/plain": [
       "28"
      ]
     },
     "execution_count": 3,
     "metadata": {},
     "output_type": "execute_result"
    }
   ],
   "source": [
    "import math\n",
    "def trailingZeroes(n):\n",
    "    nums = math.factorial(n) # 這個太慢\n",
    "    lst_nums = list(str(nums))\n",
    "    # print(lst_nums)\n",
    "\n",
    "    res = 0\n",
    "    while True:\n",
    "        last = lst_nums.pop()\n",
    "        if last=='0':\n",
    "            res = res+1\n",
    "        else:\n",
    "            break\n",
    "#     print(res)\n",
    "    return res\n",
    "\n",
    "trailingZeroes(123)\n",
    "\n",
    "# 只要是掃 O(n) 次就一定會爆掉\n",
    "# trailingZeroes(1808548329)"
   ]
  },
  {
   "cell_type": "markdown",
   "metadata": {},
   "source": [
    "### 優化方向\n",
    "* 數字之所以會有 0 是因為有一對 $(2,5)$, 因此我先設法看一直乘下去的時候, $2$ 跟 $5$ 的成長速度\n",
    "* 會發現 $2$ 的成長速度遠比 $5$ 還要快, 所以其實我們可以簡單看 $5$ 的成長速度就好"
   ]
  },
  {
   "cell_type": "code",
   "execution_count": 5,
   "metadata": {},
   "outputs": [
    {
     "name": "stdout",
     "output_type": "stream",
     "text": [
      "117\n",
      "28\n"
     ]
    }
   ],
   "source": [
    "def trail(n):\n",
    "    num2 = 0\n",
    "    num5 = 0\n",
    "    for i in range(1, n+1):\n",
    "        while i%2==0:\n",
    "            num2 += 1\n",
    "            i = i/2\n",
    "        while i%5==0:\n",
    "            num5 += 1\n",
    "            i = i/5\n",
    "    print(num2)\n",
    "    print(num5)\n",
    "    return \n",
    "\n",
    "trail(123)"
   ]
  },
  {
   "cell_type": "markdown",
   "metadata": {},
   "source": [
    "* 但是上面的函式還是一樣 $O(n)$, 但我們發現可以直接看 $5$ 的成長速度就好\n",
    "* 假設 $n=123$, 往上數到 $n$\n",
    "    - 只要是 $5^{1}$ 的倍數都會多一個零\n",
    "    - 只要是 $5^{2}$ 的倍數又會多一個零\n",
    "    - 只要是 $5^{3}$ 的倍數又會多一個零\n",
    "    - ....一直做下去, 看最多到 5 的幾次方\n",
    "* 因此此方法只會做 $log(5,n)$ 次, 時間複雜度為 $O(logn)$, 快上許多！！"
   ]
  },
  {
   "cell_type": "code",
   "execution_count": 7,
   "metadata": {},
   "outputs": [
    {
     "data": {
      "text/plain": [
       "452137076"
      ]
     },
     "execution_count": 7,
     "metadata": {},
     "output_type": "execute_result"
    }
   ],
   "source": [
    "# log(5,n) 這麼的快速！\n",
    "import math\n",
    "def trailingZeroes(n):\n",
    "    # n = 1808548329\n",
    "    if n != 0:\n",
    "        step = int(math.log(n, 5)) + 1\n",
    "        res = 0\n",
    "        for i in range(1, step):\n",
    "            res = res + int(n / pow(5, i))\n",
    "#         print(res)\n",
    "        return res\n",
    "    else:\n",
    "        return 0\n",
    "\n",
    "\n",
    "trailingZeroes(1808548329)"
   ]
  },
  {
   "cell_type": "code",
   "execution_count": null,
   "metadata": {},
   "outputs": [],
   "source": []
  }
 ],
 "metadata": {
  "kernelspec": {
   "display_name": "Python 3",
   "language": "python",
   "name": "python3"
  },
  "language_info": {
   "codemirror_mode": {
    "name": "ipython",
    "version": 3
   },
   "file_extension": ".py",
   "mimetype": "text/x-python",
   "name": "python",
   "nbconvert_exporter": "python",
   "pygments_lexer": "ipython3",
   "version": "3.7.4"
  }
 },
 "nbformat": 4,
 "nbformat_minor": 2
}
